{
  "nbformat": 4,
  "nbformat_minor": 0,
  "metadata": {
    "kernelspec": {
      "display_name": "Python 3",
      "language": "python",
      "name": "python3"
    },
    "language_info": {
      "codemirror_mode": {
        "name": "ipython",
        "version": 3
      },
      "file_extension": ".py",
      "mimetype": "text/x-python",
      "name": "python",
      "nbconvert_exporter": "python",
      "pygments_lexer": "ipython3",
      "version": "3.7.4"
    },
    "colab": {
      "name": "Lab_2.ipynb",
      "provenance": [],
      "collapsed_sections": []
    }
  },
  "cells": [
    {
      "cell_type": "markdown",
      "metadata": {
        "id": "TBvzhAlwoJFp",
        "colab_type": "text"
      },
      "source": [
        "# APS1070\n",
        "#### Anomaly Detection - Project 2\n",
        "\n"
      ]
    },
    {
      "cell_type": "markdown",
      "metadata": {
        "id": "Za0EU-0GOoAU",
        "colab_type": "text"
      },
      "source": [
        "Project 2 has two parts: a tutorial component (which will be covered in labs) and an exercises component (to be completed as homework, individually). Overall, this project is worth 12.5% of your final grade. Completing the tutorial section is worth 2.5 marks. The exercises section will be graded out of the remaining 10 marks.\n"
      ]
    },
    {
      "cell_type": "markdown",
      "metadata": {
        "id": "iQGPb-x9gouF",
        "colab_type": "text"
      },
      "source": [
        "Please fill out the following:\n",
        "\n",
        "\n",
        "*   Your **name**:Chongdi Ma\n",
        "*   Your **student number**:1004684255\n",
        "\n"
      ]
    },
    {
      "cell_type": "markdown",
      "metadata": {
        "id": "RxOWyWY9Ovlj",
        "colab_type": "text"
      },
      "source": [
        "## Tutorial"
      ]
    },
    {
      "cell_type": "markdown",
      "metadata": {
        "id": "7KJ_kwhT0859",
        "colab_type": "text"
      },
      "source": [
        "In this part of the assignment, we will implement an anomaly detection algorithm using the Gaussian model to detect anomalous behavior in a 2D dataset first and then a high-dimensional dataset.\n",
        "\n",
        "Loading relevant libraries and the dataset"
      ]
    },
    {
      "cell_type": "code",
      "metadata": {
        "id": "lj0bwJiZ085-",
        "colab_type": "code",
        "outputId": "86f093b1-e2da-4539-e48e-6b7ed6b9d16b",
        "colab": {
          "base_uri": "https://localhost:8080/",
          "height": 1000
        }
      },
      "source": [
        "import numpy as np\n",
        "import matplotlib.pyplot as plt\n",
        "\n",
        "\n",
        "from sklearn.datasets.samples_generator import make_blobs\n",
        "X, y_true = make_blobs(n_samples=400, centers=1,\n",
        "                       cluster_std=0.60, random_state=0)\n",
        "X_append, y_true_append = make_blobs(n_samples=10,centers=1,\n",
        "                                    cluster_std=5,random_state=0)\n",
        "X = np.vstack([X,X_append])\n",
        "y_true = np.hstack([y_true, [1 for _ in y_true_append]])\n",
        "X = X[:, ::-1] # flip axes for better plotting\n",
        "plt.scatter(X[:,0],X[:,1],marker=\"x\");\n",
        "X"
      ],
      "execution_count": 18,
      "outputs": [
        {
          "output_type": "execute_result",
          "data": {
            "text/plain": [
              "array([[ 4.98363526e+00,  8.97637672e-01],\n",
              "       [ 4.68480619e+00,  1.07627418e+00],\n",
              "       [ 4.48527047e+00,  1.01618041e+00],\n",
              "       [ 4.53127837e+00,  9.66057830e-01],\n",
              "       [ 4.51707640e+00, -8.48529919e-02],\n",
              "       [ 3.36141328e+00,  1.36225876e+00],\n",
              "       [ 5.47425256e+00, -4.74920358e-02],\n",
              "       [ 4.87333521e+00,  1.17461613e+00],\n",
              "       [ 5.12434567e+00,  9.22040874e-01],\n",
              "       [ 4.43068554e+00,  1.73531678e+00],\n",
              "       [ 4.90042396e+00,  2.01959369e+00],\n",
              "       [ 4.36158014e+00,  1.07462722e+00],\n",
              "       [ 4.60008939e+00,  1.00596707e+00],\n",
              "       [ 4.09382131e+00,  3.58308909e-01],\n",
              "       [ 4.70993215e+00,  1.23202532e+00],\n",
              "       [ 4.17880807e+00,  1.32222457e+00],\n",
              "       [ 4.38902441e+00,  1.19876508e+00],\n",
              "       [ 4.17528733e+00,  2.08602483e+00],\n",
              "       [ 4.33495456e+00,  4.31891060e-01],\n",
              "       [ 4.49502392e+00,  1.52878537e+00],\n",
              "       [ 4.41259038e+00,  7.12756365e-01],\n",
              "       [ 4.35631807e+00,  1.54592256e+00],\n",
              "       [ 4.06542424e+00,  5.93807863e-01],\n",
              "       [ 4.39780964e+00,  7.57453952e-01],\n",
              "       [ 3.61966955e+00,  2.69692701e-01],\n",
              "       [ 4.12240568e+00,  7.43873988e-01],\n",
              "       [ 4.95294846e+00,  1.09505045e+00],\n",
              "       [ 2.64023167e+00,  1.21569789e+00],\n",
              "       [ 4.02518471e+00,  4.94385246e-01],\n",
              "       [ 4.23412496e+00,  1.27251514e+00],\n",
              "       [ 3.95831455e+00,  1.28890900e+00],\n",
              "       [ 5.19209620e+00,  2.13003529e+00],\n",
              "       [ 4.28324196e+00,  1.20590954e+00],\n",
              "       [ 4.23330260e+00,  5.63890656e-01],\n",
              "       [ 4.69694557e+00,  1.63606584e+00],\n",
              "       [ 3.65582842e+00,  1.65225163e+00],\n",
              "       [ 3.54594632e+00,  4.16625532e-01],\n",
              "       [ 4.06921530e+00,  5.84824929e-01],\n",
              "       [ 3.89005746e+00,  4.94224280e-01],\n",
              "       [ 4.66757904e+00, -6.19233264e-01],\n",
              "       [ 4.97843884e+00,  6.21428478e-01],\n",
              "       [ 3.63280017e+00,  4.92894174e-01],\n",
              "       [ 4.35074343e+00,  1.45660896e+00],\n",
              "       [ 4.02393587e+00,  1.44806686e+00],\n",
              "       [ 3.91317197e+00,  1.49036845e+00],\n",
              "       [ 3.47376895e+00,  5.40911651e-01],\n",
              "       [ 4.08614263e+00,  5.95676822e-01],\n",
              "       [ 4.27342520e+00,  1.09585020e+00],\n",
              "       [ 3.90570036e+00,  9.17198564e-01],\n",
              "       [ 4.54143928e+00,  1.83006018e+00],\n",
              "       [ 4.50399192e+00,  1.24258802e+00],\n",
              "       [ 3.39958829e+00,  1.74786048e+00],\n",
              "       [ 5.08489507e+00,  1.39016098e+00],\n",
              "       [ 5.02521524e+00,  1.71444449e+00],\n",
              "       [ 2.96974544e+00,  5.90099037e-01],\n",
              "       [ 3.42393273e+00,  4.88251523e-01],\n",
              "       [ 4.11326147e+00,  9.41118148e-01],\n",
              "       [ 3.66777783e+00,  2.35862010e+00],\n",
              "       [ 5.10570410e+00,  2.27421165e+00],\n",
              "       [ 4.77250619e+00,  2.82560619e-01],\n",
              "       [ 3.72502012e+00,  1.25071944e+00],\n",
              "       [ 4.36039828e+00,  7.45342193e-01],\n",
              "       [ 3.57864314e+00,  1.10435811e+00],\n",
              "       [ 5.73223454e+00,  9.54809235e-01],\n",
              "       [ 4.06687762e+00,  8.61877982e-01],\n",
              "       [ 4.19444046e+00,  8.19282811e-01],\n",
              "       [ 4.23940416e+00,  9.39294237e-01],\n",
              "       [ 4.11641198e+00,  2.81856923e-01],\n",
              "       [ 5.34938860e+00,  1.14683788e+00],\n",
              "       [ 5.64832325e+00,  1.56351287e+00],\n",
              "       [ 4.95823717e+00,  6.56648403e-01],\n",
              "       [ 3.64795042e+00,  1.21387411e+00],\n",
              "       [ 4.55736450e+00,  1.29369722e+00],\n",
              "       [ 4.56721310e+00,  1.30225721e+00],\n",
              "       [ 5.37530962e+00,  9.82570091e-01],\n",
              "       [ 4.08547204e+00,  1.33019797e+00],\n",
              "       [ 4.86974376e+00,  5.53449913e-01],\n",
              "       [ 3.59042035e+00,  1.42458308e+00],\n",
              "       [ 4.50156112e+00,  1.11057622e+00],\n",
              "       [ 3.26801777e+00,  4.88382309e-01],\n",
              "       [ 4.40034423e+00,  9.66860812e-01],\n",
              "       [ 4.36015927e+00,  8.98205906e-01],\n",
              "       [ 4.79593603e+00,  3.43493000e-01],\n",
              "       [ 5.03725437e+00,  7.34363910e-01],\n",
              "       [ 4.13165501e+00,  9.50967208e-01],\n",
              "       [ 5.12876577e+00,  1.51342624e+00],\n",
              "       [ 3.30736744e+00,  9.09976436e-01],\n",
              "       [ 4.56742235e+00,  8.15155229e-02],\n",
              "       [ 4.21078127e+00,  1.54462126e+00],\n",
              "       [ 3.99107374e+00,  5.84893919e-01],\n",
              "       [ 4.31659806e+00,  6.76860096e-01],\n",
              "       [ 4.17614316e+00,  7.93137001e-03],\n",
              "       [ 4.95043361e+00,  8.96049143e-01],\n",
              "       [ 4.39285708e+00,  1.26240910e+00],\n",
              "       [ 4.40927870e+00,  5.80236286e-01],\n",
              "       [ 3.23484961e+00,  1.09331190e+00],\n",
              "       [ 5.08249480e+00,  5.69454610e-01],\n",
              "       [ 4.61581170e+00,  1.16656645e+00],\n",
              "       [ 5.23513324e+00,  6.15875544e-01],\n",
              "       [ 5.65782143e+00,  8.81669869e-01],\n",
              "       [ 3.76923828e+00,  1.14097989e+00],\n",
              "       [ 4.42172177e+00,  5.38843283e-01],\n",
              "       [ 4.22399427e+00,  2.02926177e+00],\n",
              "       [ 4.73580758e+00,  9.82479667e-01],\n",
              "       [ 5.51641346e+00,  1.17961255e+00],\n",
              "       [ 4.17018227e+00,  1.31664425e+00],\n",
              "       [ 4.42036309e+00,  9.24711618e-01],\n",
              "       [ 2.95659434e+00,  2.47459031e+00],\n",
              "       [ 4.79788982e+00,  1.43934441e+00],\n",
              "       [ 4.30295630e+00,  9.42590266e-01],\n",
              "       [ 5.21474403e+00,  8.31058181e-01],\n",
              "       [ 4.53962509e+00,  1.10797581e+00],\n",
              "       [ 3.98011455e+00, -2.33573898e-01],\n",
              "       [ 3.79132988e+00,  1.16411070e+00],\n",
              "       [ 4.53784332e+00,  2.14981746e+00],\n",
              "       [ 3.95252860e+00,  2.08456575e-01],\n",
              "       [ 5.09961887e+00,  1.15521298e+00],\n",
              "       [ 4.82423177e+00,  1.42950750e+00],\n",
              "       [ 4.52582086e+00,  7.36600661e-01],\n",
              "       [ 4.46572994e+00,  6.34682846e-01],\n",
              "       [ 3.22899080e+00,  7.57236949e-01],\n",
              "       [ 4.91399992e+00,  4.12881135e-01],\n",
              "       [ 3.33390281e+00,  7.64211029e-01],\n",
              "       [ 3.84684329e+00,  1.67514825e-01],\n",
              "       [ 4.55014643e+00,  9.14338767e-01],\n",
              "       [ 4.67391926e+00,  1.18912469e+00],\n",
              "       [ 4.54664441e+00,  8.97124895e-01],\n",
              "       [ 5.18540259e+00,  1.89593761e+00],\n",
              "       [ 4.61998985e+00,  9.81446818e-01],\n",
              "       [ 3.42068632e+00,  3.84963636e-01],\n",
              "       [ 4.39759671e+00,  7.67522789e-01],\n",
              "       [ 3.77040451e+00, -3.24608508e-02],\n",
              "       [ 3.30682835e+00,  1.43988698e+00],\n",
              "       [ 4.51756302e+00,  1.43626799e+00],\n",
              "       [ 5.08260051e+00,  1.63644068e+00],\n",
              "       [ 4.21297300e+00,  1.54632313e+00],\n",
              "       [ 4.46991047e+00,  1.49764817e+00],\n",
              "       [ 4.44309595e+00,  1.07017400e+00],\n",
              "       [ 4.92145062e+00,  1.43911365e+00],\n",
              "       [ 5.29866574e+00,  1.92353968e-01],\n",
              "       [ 5.22959608e+00,  5.32532281e-01],\n",
              "       [ 4.84112092e+00,  1.33934213e+00],\n",
              "       [ 5.33179296e+00,  9.35325115e-01],\n",
              "       [ 3.52184167e+00, -6.91436401e-02],\n",
              "       [ 4.27703007e+00,  2.18302409e+00],\n",
              "       [ 4.49411826e+00,  1.52237742e+00],\n",
              "       [ 2.98292256e+00,  6.94951566e-01],\n",
              "       [ 3.77055517e+00,  1.12154086e+00],\n",
              "       [ 4.36252501e+00,  1.24776353e+00],\n",
              "       [ 4.38117707e+00,  1.41372442e+00],\n",
              "       [ 3.89011782e+00,  1.79498919e+00],\n",
              "       [ 5.58307937e+00,  1.11716299e+00],\n",
              "       [ 4.07629879e+00,  1.04535880e+00],\n",
              "       [ 3.30975827e+00,  9.99448410e-01],\n",
              "       [ 3.70605974e+00,  1.59691601e+00],\n",
              "       [ 4.67600231e+00,  6.88476590e-01],\n",
              "       [ 4.63566657e+00,  1.88426693e+00],\n",
              "       [ 4.31598784e+00, -4.42234212e-01],\n",
              "       [ 3.67265927e+00,  6.71759518e-01],\n",
              "       [ 3.91418457e+00,  7.07370861e-01],\n",
              "       [ 4.12080914e+00,  2.45506972e-01],\n",
              "       [ 4.51358000e+00,  1.32338298e+00],\n",
              "       [ 4.30604986e+00,  1.39534437e+00],\n",
              "       [ 4.21400660e+00,  5.59529363e-01],\n",
              "       [ 4.65312208e+00,  1.53397315e+00],\n",
              "       [ 3.56289184e+00,  1.65991049e+00],\n",
              "       [ 4.57361459e+00,  1.11163527e+00],\n",
              "       [ 4.53068484e+00,  1.06923853e+00],\n",
              "       [ 4.82221871e+00, -4.45482065e-01],\n",
              "       [ 3.76442203e+00,  4.60886645e-01],\n",
              "       [ 5.09126955e+00,  4.37829522e-01],\n",
              "       [ 5.30635315e+00,  1.08627360e+00],\n",
              "       [ 4.07458195e+00,  1.38214652e+00],\n",
              "       [ 4.19147702e+00,  1.00372519e+00],\n",
              "       [ 4.88542535e+00,  2.13979079e-01],\n",
              "       [ 4.23472285e+00,  1.50176974e+00],\n",
              "       [ 3.59540802e+00,  6.69786996e-01],\n",
              "       [ 3.89290127e+00,  1.21767506e+00],\n",
              "       [ 5.04977896e+00,  4.16596654e-01],\n",
              "       [ 3.63424914e+00,  6.17077716e-01],\n",
              "       [ 3.64204360e+00,  1.40826032e+00],\n",
              "       [ 4.17374845e+00,  6.94250349e-01],\n",
              "       [ 5.03047450e+00,  3.49118059e-01],\n",
              "       [ 4.78526116e+00,  8.15468056e-01],\n",
              "       [ 3.43116792e+00,  2.33812285e+00],\n",
              "       [ 4.24301844e+00,  1.77293970e+00],\n",
              "       [ 4.05775751e+00,  4.09602325e-01],\n",
              "       [ 5.29951781e+00,  5.65863540e-01],\n",
              "       [ 4.44664922e+00,  4.09648984e-01],\n",
              "       [ 3.95647753e+00,  4.53791789e-01],\n",
              "       [ 3.71648941e+00,  6.65758653e-01],\n",
              "       [ 4.02140473e+00,  6.43684303e-01],\n",
              "       [ 4.54826443e+00,  1.37964693e+00],\n",
              "       [ 4.63725951e+00,  5.16848762e-01],\n",
              "       [ 4.04094275e+00,  6.70478769e-01],\n",
              "       [ 4.81040511e+00,  2.41008767e-01],\n",
              "       [ 3.49575682e+00,  1.75714996e-01],\n",
              "       [ 4.13557403e+00,  7.11716499e-01],\n",
              "       [ 4.95130416e+00,  9.62216216e-01],\n",
              "       [ 3.06179631e+00,  1.87296081e+00],\n",
              "       [ 3.80792420e+00,  5.29417185e-01],\n",
              "       [ 4.54468676e+00, -3.67492357e-01],\n",
              "       [ 3.33361370e+00,  1.36034899e+00],\n",
              "       [ 4.48594967e+00, -1.18283915e-01],\n",
              "       [ 4.23755375e+00,  5.06692585e-01],\n",
              "       [ 4.19583243e+00,  1.68353782e+00],\n",
              "       [ 3.65336536e+00,  8.44545462e-01],\n",
              "       [ 4.04919675e+00,  4.31012131e-01],\n",
              "       [ 4.49267765e+00,  3.93607336e-01],\n",
              "       [ 4.16325785e+00,  1.63407819e+00],\n",
              "       [ 4.66909363e+00,  1.14807629e+00],\n",
              "       [ 4.93645836e+00,  3.33818506e-01],\n",
              "       [ 5.15118395e+00,  1.53831556e+00],\n",
              "       [ 4.53592883e+00,  4.38990142e-01],\n",
              "       [ 4.33914268e+00,  1.46498197e+00],\n",
              "       [ 3.85848832e+00,  1.49493180e+00],\n",
              "       [ 5.44982630e+00,  4.59534668e-01],\n",
              "       [ 3.53305595e+00,  1.31467520e+00],\n",
              "       [ 4.00779540e+00,  1.21833533e-01],\n",
              "       [ 3.36312669e+00, -3.31063719e-03],\n",
              "       [ 3.99969751e+00,  2.62954524e-01],\n",
              "       [ 4.28273022e+00,  1.53813751e+00],\n",
              "       [ 3.65752789e+00,  1.02102192e+00],\n",
              "       [ 4.24489709e+00,  1.14422484e+00],\n",
              "       [ 4.26350683e+00, -3.18390269e-03],\n",
              "       [ 4.16015982e+00,  7.54760976e-01],\n",
              "       [ 4.14323048e+00,  1.54175095e+00],\n",
              "       [ 4.91589095e+00,  9.09945684e-01],\n",
              "       [ 4.69595848e+00, -5.55523811e-01],\n",
              "       [ 4.46320011e+00,  7.05488256e-01],\n",
              "       [ 5.41334556e+00,  7.15177948e-01],\n",
              "       [ 4.65355954e+00,  1.03490506e+00],\n",
              "       [ 4.45467798e+00, -3.96901945e-01],\n",
              "       [ 3.87795055e+00,  8.10867758e-01],\n",
              "       [ 4.25943253e+00,  2.59400451e+00],\n",
              "       [ 4.30696292e+00,  1.46922151e+00],\n",
              "       [ 5.44132083e+00,  1.86922139e+00],\n",
              "       [ 4.77476184e+00,  2.92388605e-01],\n",
              "       [ 3.90785229e+00, -1.94812382e-01],\n",
              "       [ 4.84428322e+00,  2.77180174e-01],\n",
              "       [ 4.93257062e+00,  1.27548424e+00],\n",
              "       [ 4.97399710e+00,  4.28576743e-01],\n",
              "       [ 3.49888929e+00,  1.34342639e+00],\n",
              "       [ 3.75593980e+00,  8.42706670e-01],\n",
              "       [ 4.70964730e+00,  5.94762432e-01],\n",
              "       [ 4.50776632e+00,  1.53537910e+00],\n",
              "       [ 3.80580857e+00,  7.21472097e-01],\n",
              "       [ 4.96057035e+00,  5.03068526e-01],\n",
              "       [ 3.11530945e+00,  4.43598630e-01],\n",
              "       [ 3.77433604e+00,  1.76775220e+00],\n",
              "       [ 4.71448799e+00,  2.01590279e+00],\n",
              "       [ 3.64414685e+00,  1.20212540e+00],\n",
              "       [ 4.47124479e+00,  1.25414828e+00],\n",
              "       [ 3.82791691e+00,  3.99967450e-01],\n",
              "       [ 4.26041512e+00,  1.59363137e+00],\n",
              "       [ 3.77147876e+00,  1.51684492e-02],\n",
              "       [ 4.02683656e+00,  1.86725632e-01],\n",
              "       [ 4.37679234e+00,  1.43289271e+00],\n",
              "       [ 4.85711133e+00,  1.34471770e+00],\n",
              "       [ 4.87047502e+00,  2.40615694e+00],\n",
              "       [ 3.34255273e+00,  1.35140895e+00],\n",
              "       [ 4.27843304e+00,  2.33185545e+00],\n",
              "       [ 3.60293123e+00,  9.52700388e-01],\n",
              "       [ 4.33508638e+00,  3.13640075e-01],\n",
              "       [ 3.36359050e+00,  1.00013012e+00],\n",
              "       [ 4.07249347e+00,  1.08662538e+00],\n",
              "       [ 4.41705449e+00, -1.85497805e-01],\n",
              "       [ 4.31855460e+00,  1.41013037e+00],\n",
              "       [ 4.36222743e+00,  7.89738376e-01],\n",
              "       [ 4.15411218e+00,  1.48124884e+00],\n",
              "       [ 4.01517106e+00,  5.99417543e-01],\n",
              "       [ 4.65614296e+00,  1.46387450e+00],\n",
              "       [ 4.03175585e+00,  1.61737572e+00],\n",
              "       [ 3.84689200e+00,  8.01167661e-01],\n",
              "       [ 3.73641785e+00,  7.53847677e-01],\n",
              "       [ 3.75611723e+00, -1.91151771e-01],\n",
              "       [ 4.12243749e+00,  8.41714718e-01],\n",
              "       [ 4.98844845e+00,  1.49102443e+00],\n",
              "       [ 3.45177657e+00,  3.47138300e-01],\n",
              "       [ 4.72063681e+00,  1.39119333e+00],\n",
              "       [ 4.84741412e+00,  2.09680545e+00],\n",
              "       [ 4.53615561e+00, -4.25934131e-02],\n",
              "       [ 3.99524695e+00,  5.81138298e-01],\n",
              "       [ 4.62733684e+00,  5.14320434e-01],\n",
              "       [ 4.55341736e+00,  6.50553193e-01],\n",
              "       [ 4.34270099e+00,  1.71119242e+00],\n",
              "       [ 3.71742060e+00,  2.09680487e+00],\n",
              "       [ 3.86538068e+00,  3.00174593e-01],\n",
              "       [ 4.16103429e+00,  6.17880437e-01],\n",
              "       [ 5.46150656e+00,  6.77450608e-01],\n",
              "       [ 4.60138790e+00,  1.65342652e+00],\n",
              "       [ 4.54574605e+00,  7.03987654e-01],\n",
              "       [ 4.45528530e+00,  4.25467217e-01],\n",
              "       [ 3.37692467e+00,  3.76140870e-01],\n",
              "       [ 3.99761168e+00,  7.44147570e-01],\n",
              "       [ 4.02735546e+00,  1.37609993e+00],\n",
              "       [ 3.86096878e+00,  9.61674404e-01],\n",
              "       [ 4.58145668e+00, -1.84892963e-03],\n",
              "       [ 3.71098616e+00,  9.13663984e-01],\n",
              "       [ 3.33726029e+00,  2.24634469e+00],\n",
              "       [ 4.27373687e+00,  5.21547562e-01],\n",
              "       [ 4.95155848e+00,  1.66766902e+00],\n",
              "       [ 4.88977075e+00,  1.10123507e+00],\n",
              "       [ 3.57746153e+00,  1.09305959e-01],\n",
              "       [ 4.54498095e+00,  1.05241733e+00],\n",
              "       [ 4.40232398e+00,  1.96515104e+00],\n",
              "       [ 4.33748653e+00,  7.89338559e-01],\n",
              "       [ 4.57434800e+00, -7.72642715e-02],\n",
              "       [ 4.52991324e+00, -2.26259351e-01],\n",
              "       [ 3.92464507e+00,  1.68509724e+00],\n",
              "       [ 2.65998103e+00,  1.54209773e+00],\n",
              "       [ 5.54248304e+00, -2.42140602e-01],\n",
              "       [ 4.19663387e+00,  4.18176177e-01],\n",
              "       [ 3.85531444e+00,  7.28098690e-01],\n",
              "       [ 3.20594308e+00,  1.24853923e+00],\n",
              "       [ 4.76452877e+00,  9.98473512e-01],\n",
              "       [ 2.91143076e+00,  1.14841277e+00],\n",
              "       [ 4.53132865e+00,  1.18733814e+00],\n",
              "       [ 4.08164186e+00,  1.25596993e+00],\n",
              "       [ 3.81599153e+00,  5.44507445e-01],\n",
              "       [ 2.47610149e+00,  7.40836680e-01],\n",
              "       [ 5.11975645e+00,  1.46846316e+00],\n",
              "       [ 5.22561356e+00,  5.61040170e-01],\n",
              "       [ 5.32149627e+00,  1.24518725e+00],\n",
              "       [ 4.61656958e+00,  1.86988366e+00],\n",
              "       [ 3.95502624e+00,  7.67799687e-01],\n",
              "       [ 4.72773123e+00,  1.19008992e+00],\n",
              "       [ 3.12261251e+00,  1.76943086e-01],\n",
              "       [ 3.69028322e+00, -3.77068459e-01],\n",
              "       [ 4.71274404e+00,  3.55724373e-01],\n",
              "       [ 4.81531849e+00,  1.85621731e+00],\n",
              "       [ 2.60305462e+00,  5.82391874e-01],\n",
              "       [ 3.70791316e+00,  1.14453510e+00],\n",
              "       [ 4.67001495e+00,  2.65070401e-02],\n",
              "       [ 4.77526962e+00,  1.82297332e+00],\n",
              "       [ 4.11219028e+00,  1.06144198e+00],\n",
              "       [ 3.23718715e+00,  7.48321369e-02],\n",
              "       [ 4.27224695e+00,  6.18481655e-01],\n",
              "       [ 5.08464417e+00,  2.68775320e-01],\n",
              "       [ 3.62698053e+00,  8.15629956e-01],\n",
              "       [ 4.55417862e+00,  4.60124715e-02],\n",
              "       [ 4.59267621e+00,  6.98112494e-01],\n",
              "       [ 4.77028154e+00,  2.24592863e-01],\n",
              "       [ 3.87928391e+00,  1.37861235e+00],\n",
              "       [ 3.81919823e+00,  8.65237876e-01],\n",
              "       [ 4.20804326e+00,  1.39253397e+00],\n",
              "       [ 3.57534089e+00,  5.63567512e-01],\n",
              "       [ 4.08805543e+00,  5.72793810e-01],\n",
              "       [ 4.03748567e+00,  7.45482825e-01],\n",
              "       [ 3.45364366e+00,  6.96162751e-01],\n",
              "       [ 4.12954907e+00,  5.58474086e-01],\n",
              "       [ 3.17303582e+00,  6.48842894e-01],\n",
              "       [ 2.71041587e+00,  1.49382769e+00],\n",
              "       [ 3.38204112e+00,  1.25566754e+00],\n",
              "       [ 3.44111244e+00,  5.17783724e-01],\n",
              "       [ 5.17635143e+00,  1.06269622e+00],\n",
              "       [ 4.78396610e+00,  1.08349259e-01],\n",
              "       [ 3.59345894e+00,  1.44022186e+00],\n",
              "       [ 3.60813502e+00,  7.39132689e-01],\n",
              "       [ 3.81431240e+00,  6.73055088e-01],\n",
              "       [ 2.76827653e+00,  1.62318846e+00],\n",
              "       [ 4.31427482e+00,  7.02950576e-01],\n",
              "       [ 4.32288566e+00,  5.71670482e-01],\n",
              "       [ 5.33554091e+00,  1.88826700e+00],\n",
              "       [ 3.94975274e+00,  1.32692329e-01],\n",
              "       [ 4.46401785e+00,  2.00555933e-01],\n",
              "       [ 3.51274981e+00,  9.35904713e-01],\n",
              "       [ 4.71177223e+00,  5.53317267e-01],\n",
              "       [ 5.75125954e+00,  6.74580058e-01],\n",
              "       [ 4.41943964e+00,  4.24802012e-01],\n",
              "       [ 4.23785766e+00,  8.54531974e-01],\n",
              "       [ 4.79663089e+00,  9.67355457e-01],\n",
              "       [ 4.06271877e+00,  1.08272576e+00],\n",
              "       [ 3.49513189e+00,  2.10616050e+00],\n",
              "       [ 5.46996004e+00,  2.72396035e-01],\n",
              "       [ 4.16370733e+00,  7.90801412e-01],\n",
              "       [ 4.31535496e+00,  9.15251714e-01],\n",
              "       [ 3.97226292e+00,  1.58934443e+00],\n",
              "       [ 4.57102328e+00,  8.46100337e-01],\n",
              "       [ 3.82700553e+00,  7.68520410e-01],\n",
              "       [ 4.20085953e+00,  1.29023607e+00],\n",
              "       [ 3.29818504e+00,  7.90862297e-01],\n",
              "       [ 4.98592215e+00,  8.94700258e-01],\n",
              "       [ 4.04109530e+00,  2.87788887e-01],\n",
              "       [ 4.49395289e+00,  1.68908795e+00],\n",
              "       [ 4.34174452e+00,  5.17918699e-02],\n",
              "       [ 4.43609192e+00,  9.48847702e-01],\n",
              "       [ 4.83189467e+00,  8.52127873e-01],\n",
              "       [ 4.27894684e+00,  1.60401643e-01],\n",
              "       [ 3.47881655e+00,  7.63873732e-01],\n",
              "       [ 4.09619826e+00,  4.02703078e-01],\n",
              "       [ 4.35684058e+00,  1.29060469e+00],\n",
              "       [ 4.25707447e+00,  3.65444953e-01],\n",
              "       [ 4.56078645e+00,  9.59360742e-01],\n",
              "       [ 4.01700293e+00, -1.29571652e-01],\n",
              "       [ 3.56806961e+00,  7.51181809e-01],\n",
              "       [ 4.18069237e+00,  1.87271752e+00],\n",
              "       [ 4.37802048e+00, -2.80491764e-01],\n",
              "       [ 3.89568041e+00,  9.05371651e-01],\n",
              "       [ 4.12511280e+00,  8.96541732e-01],\n",
              "       [ 4.91216241e+00,  4.78145870e+00],\n",
              "       [-5.82602072e-01,  1.03140600e+01],\n",
              "       [ 7.57188030e+00, -1.17886790e+01],\n",
              "       [ 5.97215896e+00,  3.19558624e+00],\n",
              "       [ 1.55082533e+01,  5.86996000e+00],\n",
              "       [ 3.33086309e-02,  2.54160859e+00],\n",
              "       [ 1.15751549e+01,  1.69648793e+00],\n",
              "       [ 3.27799601e+00,  8.44666544e+00],\n",
              "       [ 3.54700129e+00,  5.72671217e+00],\n",
              "       [ 6.35677984e+00,  4.60175820e-01]])"
            ]
          },
          "metadata": {
            "tags": []
          },
          "execution_count": 18
        },
        {
          "output_type": "display_data",
          "data": {
            "image/png": "[encoded data removed]",
            "text/plain": [
              "<Figure size 432x288 with 1 Axes>"
            ]
          },
          "metadata": {
            "tags": []
          }
        }
      ]
    },
    {
      "cell_type": "markdown",
      "metadata": {
        "id": "cj5u6ZQr086A",
        "colab_type": "text"
      },
      "source": [
        "Here we've manufactured a dataset where some points are visibly outliers from the main distribution.\n",
        "\n",
        "We can see this from looking at the plot, but how do we robustly identify the outliers? \n",
        "\n",
        "That's where a Gaussian estimation comes in. For this dataset, we only need a single Gaussian, for which we are gonna calculate the mean and standard deviation. Then, we're able to find the points that don't seem likely to have originated from that distribution - these are our outliers!\n",
        "\n",
        "First, we need to calculate the mean and variance for our data. Complete the function below to generate these values using these formulae:\n",
        "\n",
        "$$\\mu = \\frac{1}{m} \\sum_{i=1}^{m}X_i$$\n",
        "\n",
        "$$\\sigma^2 = \\frac{1}{m} \\sum_{i=1}^{m}(X_i-\\mu)^2$$"
      ]
    },
    {
      "cell_type": "code",
      "metadata": {
        "id": "uZubKGrU086A",
        "colab_type": "code",
        "colab": {}
      },
      "source": [
        "def estimateGaussian(X):\n",
        "    \"\"\"\n",
        "     This function provides an estimate of mean and variance \n",
        "     of a Gaussian distribution along multiple dimensions\n",
        "     using X, an N-dimensional vector\n",
        "    \"\"\"\n",
        "    \n",
        "    m = X.shape[0]\n",
        "    \n",
        "    #compute mean of X\n",
        "    sum_ = np.sum(X,axis=0)\n",
        "    mu = 1/m *sum_\n",
        "    \n",
        "    # compute variance of X\n",
        "    var = 1/m * np.sum((X - mu)**2,axis=0)\n",
        "    \n",
        "    return mu,var\n",
        "mu, sigma = estimateGaussian(X)\n"
      ],
      "execution_count": 0,
      "outputs": []
    },
    {
      "cell_type": "markdown",
      "metadata": {
        "id": "uHxa6dYa086C",
        "colab_type": "text"
      },
      "source": [
        "Now, we will calculate for each point in X, the probability of the distribution $N(\\mu,\\sigma^2)$ generating that point randomly. This has been completed for you, although it is important to understand how the calculation of the PDF works."
      ]
    },
    {
      "cell_type": "code",
      "metadata": {
        "id": "tuQsE2kJ086C",
        "colab_type": "code",
        "colab": {}
      },
      "source": [
        "def multivariateGaussian(X, mu, sigma):\n",
        "    \"\"\"\n",
        "    This function computes the probability density function of a multivariate gaussian distribution.\n",
        "    \"\"\"\n",
        "    k = len(mu)\n",
        "    \n",
        "    sigma=np.diag(sigma)\n",
        "    X = X - mu.T\n",
        "    p = 1/((2*np.pi)**(k/2)*(np.linalg.det(sigma)**0.5))* np.exp(-0.5* np.sum(X @ np.linalg.pinv(sigma) * X,axis=1))\n",
        "    return p\n",
        "p = multivariateGaussian(X, mu, sigma)"
      ],
      "execution_count": 0,
      "outputs": []
    },
    {
      "cell_type": "markdown",
      "metadata": {
        "id": "icNAMejX086E",
        "colab_type": "text"
      },
      "source": [
        "Now that we have the probability of each point in the dataset, we can plot these on the original scatterplot:"
      ]
    },
    {
      "cell_type": "code",
      "metadata": {
        "id": "qc_9TKyD086E",
        "colab_type": "code",
        "outputId": "df38e15e-2d0f-4140-c8c8-bd7ed3a60932",
        "colab": {
          "base_uri": "https://localhost:8080/",
          "height": 378
        }
      },
      "source": [
        "plt.figure(figsize=(8,6))\n",
        "plt.scatter(X[:,0],X[:,1],marker=\"x\",c=p,cmap='viridis');\n",
        "plt.colorbar();"
      ],
      "execution_count": 21,
      "outputs": [
        {
          "output_type": "display_data",
          "data": {
            "image/png": "[encoded data removed]",
            "text/plain": [
              "<Figure size 576x432 with 2 Axes>"
            ]
          },
          "metadata": {
            "tags": []
          }
        }
      ]
    },
    {
      "cell_type": "markdown",
      "metadata": {
        "id": "2AL9fY-a086F",
        "colab_type": "text"
      },
      "source": [
        "We're getting closer to the point where we can programatically identify our outliers for a single Gaussian distribution. The last step is to identify a value for $p$, below which we consider a point to be an outlier. We term this $\\epsilon$."
      ]
    },
    {
      "cell_type": "code",
      "metadata": {
        "id": "EIH0Q-zF086G",
        "colab_type": "code",
        "colab": {}
      },
      "source": [
        "#Choose a value for epsilon\n",
        "\n",
        "epsilon =0.02"
      ],
      "execution_count": 0,
      "outputs": []
    },
    {
      "cell_type": "markdown",
      "metadata": {
        "id": "uIyFl_4z086H",
        "colab_type": "text"
      },
      "source": [
        "Now we'll highlight on the scatter plot all points that are below $\\epsilon$:"
      ]
    },
    {
      "cell_type": "code",
      "metadata": {
        "id": "fTLIVfpp086I",
        "colab_type": "code",
        "outputId": "4c9b79fb-904d-4982-ad34-b575b0388ea4",
        "colab": {
          "base_uri": "https://localhost:8080/",
          "height": 378
        }
      },
      "source": [
        "plt.figure(figsize=(8,6))\n",
        "plt.scatter(X[:,0],X[:,1],marker=\"x\",c=p,cmap='viridis');\n",
        "# Circling of anomalies\n",
        "outliers = np.nonzero(p<epsilon)[0]\n",
        "plt.scatter(X[outliers,0],X[outliers,1],marker=\"o\",facecolor=\"none\",edgecolor=\"r\",s=70);"
      ],
      "execution_count": 23,
      "outputs": [
        {
          "output_type": "display_data",
          "data": {
            "image/png": "[encoded data removed]",
            "text/plain": [
              "<Figure size 576x432 with 1 Axes>"
            ]
          },
          "metadata": {
            "tags": []
          }
        }
      ]
    },
    {
      "cell_type": "markdown",
      "metadata": {
        "id": "7O3aNvtP086J",
        "colab_type": "text"
      },
      "source": [
        "How well did your epsilon value do? Play around with different values until you're happy with the plot above. \n",
        "\n",
        "We can additionally look at our model's classification performance another way. By sorting the points ascending by their probability, and classifying the first $k$ points as anomalous, we can determine the model's precision@k. Implement this in the cell below. \n",
        "\n",
        "* What is the highest value of K for which we get precision of 1.0? _9___\n",
        "* What is the precision for K=4? _1___"
      ]
    },
    {
      "cell_type": "code",
      "metadata": {
        "id": "6Qa46yVb086K",
        "colab_type": "code",
        "outputId": "85ae5eb2-842d-4196-c9de-8ae958da17e8",
        "colab": {
          "base_uri": "https://localhost:8080/",
          "height": 208
        }
      },
      "source": [
        "from sklearn.metrics import precision_score\n",
        "\n",
        "for i in range(11):\n",
        "\n",
        "    mn = sorted(p)[i]\n",
        "\n",
        "    sc = precision_score(\n",
        "            y_true, p<=mn\n",
        "        )\n",
        "    print(\"k = {}: precision {} \".format(i, sc))\n"
      ],
      "execution_count": 24,
      "outputs": [
        {
          "output_type": "stream",
          "text": [
            "k = 0: precision 1.0 \n",
            "k = 1: precision 1.0 \n",
            "k = 2: precision 1.0 \n",
            "k = 3: precision 1.0 \n",
            "k = 4: precision 1.0 \n",
            "k = 5: precision 1.0 \n",
            "k = 6: precision 1.0 \n",
            "k = 7: precision 1.0 \n",
            "k = 8: precision 1.0 \n",
            "k = 9: precision 1.0 \n",
            "k = 10: precision 0.9090909090909091 \n"
          ],
          "name": "stdout"
        }
      ]
    },
    {
      "cell_type": "markdown",
      "metadata": {
        "id": "1Tux0Ucg086L",
        "colab_type": "text"
      },
      "source": [
        "You may have noticed that in this example, we are training and testing on the _entire_ dataset. This is absolutely not standard practice! You should _always_ split into a training and testing set. However, the reason that we can get away with this here is because we don't actually use labels at all during training - this is an _unsupervised_ machine learning task. Unsupervised learning methods are beneficial for anomaly detection because in the real world (i.e. testing!) we might come across types of outliers that we didn't see during training. We want to use a method that can handle this, and unsupervised methods are often better suited to this type of domain.\n",
        "\n",
        "For the next section, we'll move to Mixture of Gaussian models. Take a look at the following dataset:"
      ]
    },
    {
      "cell_type": "code",
      "metadata": {
        "id": "2V2eZ0rY086N",
        "colab_type": "code",
        "outputId": "91aa35d0-7017-4807-e138-08df9e45f612",
        "colab": {
          "base_uri": "https://localhost:8080/",
          "height": 269
        }
      },
      "source": [
        "from sklearn.datasets.samples_generator import make_blobs\n",
        "from sklearn.model_selection import train_test_split\n",
        "X, y_true = make_blobs(n_samples=400, centers=5,\n",
        "                       cluster_std=0.60, random_state=1)\n",
        "X_append, y_true_append = make_blobs(n_samples=50,centers=5,\n",
        "                                    cluster_std=5,random_state=1)\n",
        "X = np.vstack([X,X_append])\n",
        "y_true = np.hstack([[0 for _ in y_true], [1 for _ in y_true_append]])\n",
        "X = X[:, ::-1] # flip axes for better plotting\n",
        "\n",
        "X_train, X_test, y_train, y_test = train_test_split(X, y_true, test_size=0.33, random_state=1, shuffle=True)\n",
        "\n",
        "plt.scatter(X_train[:,0],X_train[:,1],marker=\"x\");"
      ],
      "execution_count": 25,
      "outputs": [
        {
          "output_type": "display_data",
          "data": {
            "image/png": "[encoded data removed]",
            "text/plain": [
              "<Figure size 432x288 with 1 Axes>"
            ]
          },
          "metadata": {
            "tags": []
          }
        }
      ]
    },
    {
      "cell_type": "markdown",
      "metadata": {
        "id": "kRo60bt7086O",
        "colab_type": "text"
      },
      "source": [
        "Okay, we have more than one cluster centre now. So what? Let's just ignore that and use the same model as before. \n",
        "\n",
        "* What is the precision for k=1 in the cell below? _1__\n",
        "* k=10? __0.7272727272727273_\n",
        "* k=100? __0.13861386138613863 _"
      ]
    },
    {
      "cell_type": "code",
      "metadata": {
        "id": "3fWbHPU2OPW0",
        "colab_type": "code",
        "outputId": "517b8df0-4e38-48ff-f498-26da783096cf",
        "colab": {
          "base_uri": "https://localhost:8080/",
          "height": 1000
        }
      },
      "source": [
        "p = multivariateGaussian(X, mu, sigma)\n",
        "for i in range(101):\n",
        "\n",
        "    mn = sorted(p)[i]\n",
        "\n",
        "    sc = precision_score(\n",
        "            y_true, p<=mn\n",
        "        )\n",
        "    print(\"k = {}: precision {} \".format(i, sc))\n"
      ],
      "execution_count": 26,
      "outputs": [
        {
          "output_type": "stream",
          "text": [
            "k = 0: precision 1.0 \n",
            "k = 1: precision 1.0 \n",
            "k = 2: precision 1.0 \n",
            "k = 3: precision 1.0 \n",
            "k = 4: precision 1.0 \n",
            "k = 5: precision 1.0 \n",
            "k = 6: precision 0.8571428571428571 \n",
            "k = 7: precision 0.875 \n",
            "k = 8: precision 0.8888888888888888 \n",
            "k = 9: precision 0.8 \n",
            "k = 10: precision 0.7272727272727273 \n",
            "k = 11: precision 0.6666666666666666 \n",
            "k = 12: precision 0.6153846153846154 \n",
            "k = 13: precision 0.5714285714285714 \n",
            "k = 14: precision 0.6 \n",
            "k = 15: precision 0.5625 \n",
            "k = 16: precision 0.5294117647058824 \n",
            "k = 17: precision 0.5555555555555556 \n",
            "k = 18: precision 0.5263157894736842 \n",
            "k = 19: precision 0.5 \n",
            "k = 20: precision 0.47619047619047616 \n",
            "k = 21: precision 0.45454545454545453 \n",
            "k = 22: precision 0.43478260869565216 \n",
            "k = 23: precision 0.4166666666666667 \n",
            "k = 24: precision 0.4 \n",
            "k = 25: precision 0.38461538461538464 \n",
            "k = 26: precision 0.4074074074074074 \n",
            "k = 27: precision 0.39285714285714285 \n",
            "k = 28: precision 0.41379310344827586 \n",
            "k = 29: precision 0.43333333333333335 \n",
            "k = 30: precision 0.41935483870967744 \n",
            "k = 31: precision 0.40625 \n",
            "k = 32: precision 0.3939393939393939 \n",
            "k = 33: precision 0.38235294117647056 \n",
            "k = 34: precision 0.37142857142857144 \n",
            "k = 35: precision 0.3611111111111111 \n",
            "k = 36: precision 0.35135135135135137 \n",
            "k = 37: precision 0.34210526315789475 \n",
            "k = 38: precision 0.3333333333333333 \n",
            "k = 39: precision 0.325 \n",
            "k = 40: precision 0.3170731707317073 \n",
            "k = 41: precision 0.30952380952380953 \n",
            "k = 42: precision 0.3023255813953488 \n",
            "k = 43: precision 0.29545454545454547 \n",
            "k = 44: precision 0.28888888888888886 \n",
            "k = 45: precision 0.2826086956521739 \n",
            "k = 46: precision 0.2765957446808511 \n",
            "k = 47: precision 0.2708333333333333 \n",
            "k = 48: precision 0.2653061224489796 \n",
            "k = 49: precision 0.26 \n",
            "k = 50: precision 0.2549019607843137 \n",
            "k = 51: precision 0.25 \n",
            "k = 52: precision 0.24528301886792453 \n",
            "k = 53: precision 0.24074074074074073 \n",
            "k = 54: precision 0.23636363636363636 \n",
            "k = 55: precision 0.23214285714285715 \n",
            "k = 56: precision 0.22807017543859648 \n",
            "k = 57: precision 0.22413793103448276 \n",
            "k = 58: precision 0.22033898305084745 \n",
            "k = 59: precision 0.21666666666666667 \n",
            "k = 60: precision 0.21311475409836064 \n",
            "k = 61: precision 0.20967741935483872 \n",
            "k = 62: precision 0.20634920634920634 \n",
            "k = 63: precision 0.203125 \n",
            "k = 64: precision 0.2 \n",
            "k = 65: precision 0.19696969696969696 \n",
            "k = 66: precision 0.19402985074626866 \n",
            "k = 67: precision 0.19117647058823528 \n",
            "k = 68: precision 0.18840579710144928 \n",
            "k = 69: precision 0.18571428571428572 \n",
            "k = 70: precision 0.18309859154929578 \n",
            "k = 71: precision 0.18055555555555555 \n",
            "k = 72: precision 0.1780821917808219 \n",
            "k = 73: precision 0.17567567567567569 \n",
            "k = 74: precision 0.17333333333333334 \n",
            "k = 75: precision 0.17105263157894737 \n",
            "k = 76: precision 0.16883116883116883 \n",
            "k = 77: precision 0.1794871794871795 \n",
            "k = 78: precision 0.17721518987341772 \n",
            "k = 79: precision 0.175 \n",
            "k = 80: precision 0.1728395061728395 \n",
            "k = 81: precision 0.17073170731707318 \n",
            "k = 82: precision 0.1686746987951807 \n",
            "k = 83: precision 0.16666666666666666 \n",
            "k = 84: precision 0.16470588235294117 \n",
            "k = 85: precision 0.16279069767441862 \n",
            "k = 86: precision 0.16091954022988506 \n",
            "k = 87: precision 0.1590909090909091 \n",
            "k = 88: precision 0.15730337078651685 \n",
            "k = 89: precision 0.15555555555555556 \n",
            "k = 90: precision 0.15384615384615385 \n",
            "k = 91: precision 0.15217391304347827 \n",
            "k = 92: precision 0.15053763440860216 \n",
            "k = 93: precision 0.14893617021276595 \n",
            "k = 94: precision 0.14736842105263157 \n",
            "k = 95: precision 0.14583333333333334 \n",
            "k = 96: precision 0.14432989690721648 \n",
            "k = 97: precision 0.14285714285714285 \n",
            "k = 98: precision 0.1414141414141414 \n",
            "k = 99: precision 0.14 \n",
            "k = 100: precision 0.13861386138613863 \n"
          ],
          "name": "stdout"
        }
      ]
    },
    {
      "cell_type": "code",
      "metadata": {
        "id": "4r_vTJxE086O",
        "colab_type": "code",
        "outputId": "7da3777c-362f-431c-9578-f5fce6892412",
        "colab": {
          "base_uri": "https://localhost:8080/",
          "height": 378
        }
      },
      "source": [
        "mu, sigma = estimateGaussian(X_train)\n",
        "p = multivariateGaussian(X_test, mu, sigma)\n",
        "plt.figure(figsize=(8,6))\n",
        "plt.scatter(X_test[:,0],X_test[:,1],marker=\"x\",c=p,cmap='viridis');\n",
        "outliers = np.nonzero(p<0.001)[0]\n",
        "plt.scatter(X_test[outliers,0],X_test[outliers,1],marker=\"o\",facecolor=\"none\",edgecolor=\"r\",s=70);\n"
      ],
      "execution_count": 27,
      "outputs": [
        {
          "output_type": "display_data",
          "data": {
            "image/png": "[encoded data removed]",
            "text/plain": [
              "<Figure size 576x432 with 1 Axes>"
            ]
          },
          "metadata": {
            "tags": []
          }
        }
      ]
    },
    {
      "cell_type": "markdown",
      "metadata": {
        "id": "DVEbehwl086Q",
        "colab_type": "text"
      },
      "source": [
        "Uh oh. This model performs terribly. It's fit the mean to a section of space where we don't have _any_ points, and it has absolutely no idea which points are outliers! This was probably pretty obvious to you though. We need to move to a Mixture of Gaussians model - one in which we use multiple Gaussians to fit the data. We'll use `sklearn.mixture.GaussianMixture` to do this - or rather you will! Use the documentation, found [here](https://scikit-learn.org/stable/modules/generated/sklearn.mixture.GaussianMixture.html#sklearn.mixture.GaussianMixture) to initialise and fit a `GaussianMixture` object called `gm` in the cell below."
      ]
    },
    {
      "cell_type": "code",
      "metadata": {
        "id": "HfV1Bj7U086Q",
        "colab_type": "code",
        "outputId": "a49c06d1-c37f-4f7b-9189-7e6bc7bfb369",
        "colab": {
          "base_uri": "https://localhost:8080/",
          "height": 86
        }
      },
      "source": [
        "from sklearn.mixture import GaussianMixture\n",
        "gm = GaussianMixture(n_components = 5,\n",
        "                    covariance_type = 'full', random_state=0, )\n",
        "gm.fit(X_train)"
      ],
      "execution_count": 28,
      "outputs": [
        {
          "output_type": "execute_result",
          "data": {
            "text/plain": [
              "GaussianMixture(covariance_type='full', init_params='kmeans', max_iter=100,\n",
              "                means_init=None, n_components=5, n_init=1, precisions_init=None,\n",
              "                random_state=0, reg_covar=1e-06, tol=0.001, verbose=0,\n",
              "                verbose_interval=10, warm_start=False, weights_init=None)"
            ]
          },
          "metadata": {
            "tags": []
          },
          "execution_count": 28
        }
      ]
    },
    {
      "cell_type": "markdown",
      "metadata": {
        "id": "zXaIUAc1086S",
        "colab_type": "text"
      },
      "source": [
        "Now we can use the method `gm.predict_proba()` to get the probability of each data point being in any of the five clusters:"
      ]
    },
    {
      "cell_type": "code",
      "metadata": {
        "id": "3z89f1QN086S",
        "colab_type": "code",
        "outputId": "eb6ddff9-a615-457c-b593-c6b35565f9b9",
        "colab": {
          "base_uri": "https://localhost:8080/",
          "height": 595
        }
      },
      "source": [
        "#plt.subplots(3,2,figsize=(8,6))\n",
        "plt.figure(figsize=(10,10))\n",
        "for i in range(5):\n",
        "    plt.subplot(3,2,i+1)\n",
        "    plt.scatter(X_train[:,0],X_train[:,1],c=gm.predict_proba(X_train)[:,i],cmap='viridis',marker='x')"
      ],
      "execution_count": 29,
      "outputs": [
        {
          "output_type": "display_data",
          "data": {
            "image/png": "[encoded data removed]",
            "text/plain": [
              "<Figure size 720x720 with 5 Axes>"
            ]
          },
          "metadata": {
            "tags": []
          }
        }
      ]
    },
    {
      "cell_type": "markdown",
      "metadata": {
        "id": "bXJ4wCix086T",
        "colab_type": "text"
      },
      "source": [
        "Our Mixture of Gaussians model is powerful! Not only is it unsupervised, it can both classify points into one of the K clusters we have, _and_ it can help us with our ultimate goal of identifying outlier points! We can do this by finding the points that no cluster wants to claim for itself.\n",
        "\n",
        "Use the following formula to calculate the probability of each point, and set it to `p`:\n",
        "\n",
        "$$p(x) = 1 - \\bigg( \\prod_{i=1}^{k} 1 - p(x \\in k) \\bigg)$$\n",
        "\n",
        "This formula returns the probability that the datapoint was produced at random by _any_ of the Gaussians we fit. Hence, we want to filter out anything without a very high probability of this.\n",
        "\n",
        "In the cell below, calculate these values and then compute precision@k for k=1, 10, and 100.\n",
        "\n",
        "* Is this model better or worse performing than the previous? _better__\n",
        "* Why might that be? __Because, for our previous model we assume only one cluster are existed, and we could find out the outliner by the mean and standard deviation, however, the new model is defaulted to have 5 clusters, which only calculating the mean and standard deviation for the whole data point to find out the outliners is not a good choice, our previous model only performing good in one cluster. And GaussianMatrix, could unsupervised classify our points into varieties of clusters, which could perform better in 5 clusters.  __"
      ]
    },
    {
      "cell_type": "code",
      "metadata": {
        "id": "8vMwDhdRkf3V",
        "colab_type": "code",
        "outputId": "fc64adad-1810-44f8-8e74-cf6de63588b0",
        "colab": {
          "base_uri": "https://localhost:8080/",
          "height": 352
        }
      },
      "source": [
        "from sklearn.metrics import precision_score\n",
        "from sklearn.metrics import recall_score\n",
        "\n",
        "#This part outputs the precision and recall on the test set\n",
        "\n",
        "p_gm = gm.score_samples(X_test) #score_samples will compute the weighted log probabilities for each sample\n",
        "\n",
        "for i in [1, 10, 100]: #Let's look at 3 different k values\n",
        "   mn_gm = sorted(p_gm)[i] #We sort the points by probability, as before\n",
        "   precision = precision_score(y_test, p_gm < mn_gm) #Here, we compare y_test labels to our picks using precision\n",
        "   recall = recall_score(y_test, p_gm < mn_gm) #Here, we compare y_test labels to our picks using recall\n",
        "   print('For a k of ',i,' the precision is ', '%.3f' % precision,' and the recall is ', '%.3f' % recall) #We print precision and recall three times\n",
        "\n",
        "#This part computes the ROC curves for both models like we talked about in class\n",
        "\n",
        "from sklearn.metrics import roc_curve\n",
        "from matplotlib import pyplot\n",
        "fpr_sc, tpr_sc, _ = roc_curve(y_test, 1-p)\n",
        "fpr_gm, tpr_gm, _ = roc_curve(y_test, 1-p_gm)\n",
        "pyplot.plot(fpr_sc, tpr_sc, linestyle = '--', label='Single Component')\n",
        "pyplot.plot(fpr_gm, tpr_gm, marker='.', label='Gaussian Mixture')\n",
        "pyplot.xlabel('False Positive Rate')\n",
        "pyplot.ylabel('True Positive Rate')\n",
        "pyplot.legend()"
      ],
      "execution_count": 30,
      "outputs": [
        {
          "output_type": "stream",
          "text": [
            "For a k of  1  the precision is  1.000  and the recall is  0.056\n",
            "For a k of  10  the precision is  1.000  and the recall is  0.556\n",
            "For a k of  100  the precision is  0.180  and the recall is  1.000\n"
          ],
          "name": "stdout"
        },
        {
          "output_type": "execute_result",
          "data": {
            "text/plain": [
              "<matplotlib.legend.Legend at 0x7f96909e88d0>"
            ]
          },
          "metadata": {
            "tags": []
          },
          "execution_count": 30
        },
        {
          "output_type": "display_data",
          "data": {
            "image/png": "[encoded data removed]",
            "text/plain": [
              "<Figure size 432x288 with 1 Axes>"
            ]
          },
          "metadata": {
            "tags": []
          }
        }
      ]
    },
    {
      "cell_type": "code",
      "metadata": {
        "id": "3LaIGByQ086U",
        "colab_type": "code",
        "colab": {}
      },
      "source": [
        "# ps = gm.score_samples(X_test)\n",
        "\n",
        "# for i in range(101):\n",
        "\n",
        "#     mn = sorted(ps)[i]\n",
        "\n",
        "#     sc = precision_score(\n",
        "#             y_test, ps<=mn\n",
        "#         )\n",
        "#     print(\"k = {}: precision {} \".format(i, sc))"
      ],
      "execution_count": 0,
      "outputs": []
    },
    {
      "cell_type": "markdown",
      "metadata": {
        "id": "Mwge8IXr086V",
        "colab_type": "text"
      },
      "source": [
        "Although our MoG model doesn't perfectly identify all the outliers, it performs way better than our previous model, again without any label information to help it along!"
      ]
    },
    {
      "cell_type": "markdown",
      "metadata": {
        "id": "0s35meHi086V",
        "colab_type": "text"
      },
      "source": [
        "Let's look at a dataset that motivates using a Mixture of Gaussians model: Simpsons ratings.\n",
        "\n",
        "Everyone knows that there's a certain point when The Simpsons \"got bad\", but can we use a Mixture of Gaussians to find out exactly when that was?\n",
        "\n",
        "Load up the `simpsons.pickle` file using the cell below. It contains the IMDb rating for every simpsons episode."
      ]
    },
    {
      "cell_type": "code",
      "metadata": {
        "id": "Ed5EPmSS086W",
        "colab_type": "code",
        "outputId": "39924be3-1317-4a16-c63a-1c2aeac2234a",
        "colab": {
          "base_uri": "https://localhost:8080/",
          "height": 332
        }
      },
      "source": [
        "!wget https://github.com/alexwolson/APS1070_data/raw/master/simpsons.pickle\n",
        "import pickle\n",
        "import matplotlib.pyplot as plt\n",
        "import numpy as np\n",
        "from sklearn.mixture import GaussianMixture\n",
        "with open('simpsons.pickle','rb') as f:\n",
        "    simpsons = pickle.load(f)\n",
        "print(simpsons)"
      ],
      "execution_count": 32,
      "outputs": [
        {
          "output_type": "stream",
          "text": [
            "--2019-10-22 20:47:03--  https://github.com/alexwolson/APS1070_data/raw/master/simpsons.pickle\n",
            "Resolving github.com (github.com)... 140.82.118.4\n",
            "Connecting to github.com (github.com)|140.82.118.4|:443... connected.\n",
            "HTTP request sent, awaiting response... 302 Found\n",
            "Location: https://raw.githubusercontent.com/alexwolson/APS1070_data/master/simpsons.pickle [following]\n",
            "--2019-10-22 20:47:03--  https://raw.githubusercontent.com/alexwolson/APS1070_data/master/simpsons.pickle\n",
            "Resolving raw.githubusercontent.com (raw.githubusercontent.com)... 151.101.0.133, 151.101.64.133, 151.101.128.133, ...\n",
            "Connecting to raw.githubusercontent.com (raw.githubusercontent.com)|151.101.0.133|:443... connected.\n",
            "HTTP request sent, awaiting response... 200 OK\n",
            "Length: 26076 (25K) [application/octet-stream]\n",
            "Saving to: ‘simpsons.pickle.7’\n",
            "\n",
            "\rsimpsons.pickle.7     0%[                    ]       0  --.-KB/s               \rsimpsons.pickle.7   100%[===================>]  25.46K  --.-KB/s    in 0.003s  \n",
            "\n",
            "2019-10-22 20:47:03 (7.30 MB/s) - ‘simpsons.pickle.7’ saved [26076/26076]\n",
            "\n",
            "{30: {\"Bart's Not Dead\": 6.2, 'Heartbreak Hotel': 6.0, 'My Way or the Highway to Heaven': 6.1, 'Treehouse of Horror XXIX': 5.9, \"Baby You Can't Drive My Car\": 7.0, 'From Russia Without Love': 6.6, 'Werking Mom': 5.8, 'Krusty the Clown': 6.6, 'Daddicus Finch': 6.8, \"'Tis the 30th Season\": 6.7, 'Mad About the Toy': 5.7, 'The Girl on the Bus': 6.3, \"I'm Dancing as Fat as I Can\": 6.9, 'The Clown Stays in the Picture': 6.2, '101 Mitigations': 6.4, \"I Want You (She's So Heavy)\": 5.8, 'E My Sports': 6.3, 'Bart vs. Itchy & Scratchy': 4.9, \"Girl's in the Band\": 6.2, \"I'm Just a Girl Who Can't Say D'oh\": 5.2, \"D'oh Canada\": 5.3, 'Woo-Hoo Dunnit?': 6.0, 'Crystal Blue-Haired Persuasion': 5.9}, 1: {'Simpsons Roasting on an Open Fire': 8.2, 'Bart the Genius': 7.8, \"Homer's Odyssey\": 7.4, \"There's No Disgrace Like Home\": 7.7, 'Bart the General': 8.1, 'Moaning Lisa': 7.6, 'The Call of the Simpsons': 7.8, 'The Telltale Head': 7.7, 'Life on the Fast Lane': 7.5, \"Homer's Night Out\": 7.4, 'The Crepes of Wrath': 7.8, 'Krusty Gets Busted': 8.4, 'Some Enchanted Evening': 7.8}, 2: {'Bart Gets an F': 8.2, 'Simpson and Delilah': 8.3, 'Treehouse of Horror': 8.3, 'Two Cars in Every Garage and Three Eyes on Every Fish': 8.1, \"Dancin' Homer\": 7.5, 'Dead Putting Society': 8.0, 'Bart vs. Thanksgiving': 7.8, 'Bart the Daredevil': 8.4, 'Itchy and Scratchy and Marge': 8.1, 'Bart Gets Hit by a Car': 7.8, 'One Fish, Two Fish, Blowfish, Blue Fish': 8.8, 'The Way We Was': 8.3, 'Homer vs. Lisa and the 8th Commandment': 8.0, 'Principal Charming': 7.5, 'Oh Brother, Where Art Thou?': 8.3, \"Bart's Dog Gets an F\": 7.5, 'Old Money': 7.6, 'Brush with Greatness': 8.0, \"Lisa's Substitute\": 8.5, 'The War of the Simpsons': 7.9, 'Three Men and a Comic Book': 8.3, 'Blood Feud': 7.9}, 3: {'Stark Raving Dad': 8.6, 'Mr. Lisa Goes to Washington': 7.8, 'When Flanders Failed': 8.2, 'Bart the Murderer': 8.6, 'Homer Defined': 8.5, 'Like Father, Like Clown': 7.7, 'Treehouse of Horror II': 8.3, \"Lisa's Pony\": 7.9, 'Saturdays of Thunder': 7.9, \"Flaming Moe's\": 8.8, 'Burns Verkaufen der Kraftwerk': 8.3, 'I Married Marge': 8.3, 'Radio Bart': 8.5, 'Lisa the Greek': 8.0, 'Homer Alone': 8.1, 'Bart the Lover': 8.3, 'Homer at the Bat': 8.7, 'Separate Vocations': 8.2, 'Dog of Death': 7.8, 'Colonel Homer': 8.0, 'Black Widower': 8.3, 'The Otto Show': 7.8, \"Bart's Friend Falls in Love\": 7.8, 'Brother, Can You Spare Two Dimes?': 8.2}, 4: {'Kamp Krusty': 8.5, 'A Streetcar Named Marge': 8.2, 'Homer the Heretic': 9.0, 'Lisa the Beauty Queen': 7.8, 'Treehouse of Horror III': 8.5, 'Itchy & Scratchy: The Movie': 8.2, 'Marge Gets a Job': 7.9, 'New Kid on the Block': 8.2, 'Mr. Plow': 8.8, \"Lisa's First Word\": 8.6, \"Homer's Triple Bypass\": 8.7, 'Marge vs. the Monorail': 9.0, \"Selma's Choice\": 8.0, 'Brother from the Same Planet': 8.2, 'I Love Lisa': 8.4, 'Duffless': 8.4, 'Last Exit to Springfield': 9.1, \"So It's Come to This: A Simpsons Clip Show\": 7.1, 'The Front': 8.1, 'Whacking Day': 8.1, 'Marge in Chains': 7.7, 'Krusty Gets Kancelled': 8.2}, 5: {\"Homer's Barbershop Quartet\": 8.5, 'Cape Feare': 9.1, 'Homer Goes to College': 8.6, 'Rosebud': 8.9, 'Treehouse of Horror IV': 8.8, 'Marge on the Lam': 8.1, \"Bart's Inner Child\": 7.7, \"Boy Scoutz 'n the Hood\": 8.7, 'The Last Temptation of Homer': 8.4, '$pringfield (Or, How I Learned to Stop Worrying and Love Legalized Gambling)': 8.6, 'Homer the Vigilante': 8.3, 'Bart Gets Famous': 8.2, 'Homer and Apu': 8.3, 'Lisa vs. Malibu Stacy': 8.2, 'Deep Space Homer': 8.8, 'Homer Loves Flanders': 8.5, 'Bart Gets an Elephant': 7.9, \"Burns' Heir\": 8.4, \"Sweet Seymour Skinner's Baadasssss Song\": 8.4, 'The Boy Who Knew Too Much': 8.3, \"Lady Bouvier's Lover\": 7.6, 'Secrets of a Successful Marriage': 8.1}, 6: {'Bart of Darkness': 8.7, \"Lisa's Rival\": 8.1, 'Another Simpsons Clip Show': 5.9, 'Itchy & Scratchy Land': 8.6, 'Sideshow Bob Roberts': 8.3, 'Treehouse of Horror V': 9.1, \"Bart's Girlfriend\": 8.1, 'Lisa on Ice': 8.5, 'Homer Badman': 9.0, 'Grampa vs. Sexual Inadequacy': 8.1, 'Fear of Flying': 7.8, 'Homer the Great': 9.0, 'And Maggie Makes Three': 8.7, \"Bart's Comet\": 8.7, 'Homie the Clown': 8.6, 'Bart vs. Australia': 8.5, 'Homer vs. Patty and Selma': 7.9, 'A Star Is Burns': 8.5, \"Lisa's Wedding\": 8.3, 'Two Dozen and One Greyhounds': 8.2, 'The PTA Disbands': 8.1, \"'Round Springfield\": 8.2, 'The Springfield Connection': 8.2, 'Lemon of Troy': 8.7, 'Who Shot Mr. Burns? Part One': 9.1}, 7: {'Who Shot Mr. Burns? Part Two': 9.0, 'Radioactive Man': 8.3, 'Home Sweet Home-Dum-Diddly Doodily': 8.4, 'Bart Sells His Soul': 8.8, 'Lisa the Vegetarian': 8.5, 'Treehouse of Horror VI': 8.6, 'King Size Homer': 9.0, 'Mother Simpson': 8.6, \"Sideshow Bob's Last Gleaming\": 8.1, 'The Simpsons 138th Episode Spectacular!': 7.5, 'Marge Be Not Proud': 8.4, 'Team Homer': 8.3, 'Two Bad Neighbors': 8.6, 'Scenes from the Class Struggle in Springfield': 7.7, 'Bart the Fink': 7.7, 'Lisa the Iconoclast': 8.2, 'Homer the Smithers': 8.9, 'The Day the Violence Died': 8.0, 'A Fish Called Selma': 8.2, 'Bart on the Road': 8.6, '22 Short Films About Springfield': 8.9, \"Raging Abe Simpson and His Grumbling Grandson in 'The Curse of the Flying Hellfish'\": 8.4, 'Much Apu About Nothing': 8.1, 'Homerpalooza': 8.0, 'Summer of 4\\'2\"': 8.4}, 8: {'Treehouse of Horror VII': 8.4, 'You Only Move Twice': 9.2, 'The Homer They Fall': 8.1, 'Burns, Baby Burns': 7.7, 'Bart After Dark': 8.3, 'A Milhouse Divided': 8.1, \"Lisa's Date with Density\": 7.9, 'Hurricane Neddy': 8.8, 'El Viaje Misterioso De Nuestro Jomer': 8.6, 'The Springfield Files': 9.1, 'The Twisted World of Marge Simpson': 7.8, 'Mountain of Madness': 8.6, 'Simpsoncalifragilisticexpiala(Annoyed Grunt)cious': 7.7, 'The Itchy & Scratchy & Poochie Show': 8.0, \"Homer's Phobia\": 8.8, 'Brother from Another Series': 8.2, 'My Sister, My Sitter': 8.0, 'Homer vs. the 18th Amendment': 8.8, 'Grade School Confidential': 8.2, 'The Canine Mutiny': 7.7, 'The Old Man and the Lisa': 7.9, 'In Marge We Trust': 8.1, \"Homer's Enemy\": 9.3, 'The Simpsons Spin-Off Showcase': 7.3, 'The Secret War of Lisa Simpson': 7.9}, 9: {'The City of New York vs. Homer Simpson': 9.1, 'The Principal and the Pauper': 7.0, \"Lisa's Sax\": 8.1, 'Treehouse of Horror VIII': 8.2, 'The Cartridge Family': 8.2, 'Bart Star': 7.7, 'The Two Mrs. Nahasapeemapetilons': 7.8, 'Lisa the Skeptic': 8.1, 'Realty Bites': 7.6, 'Miracle on Evergreen Terrace': 7.6, 'All Singing, All Dancing': 5.0, 'Bart Carny': 7.7, 'The Joy of Sect': 8.3, 'Das Bus': 8.2, 'The Last Temptation of Krust': 7.5, 'Dumbbell Indemnity': 7.7, 'Lisa the Simpson': 8.0, 'This Little Wiggy': 7.9, 'Simpson Tide': 8.2, 'The Trouble with Trillions': 7.9, 'Girly Edition': 7.9, 'Trash of the Titans': 8.4, 'King of the Hill': 8.2, 'Lost Our Lisa': 7.8, 'Natural Born Kissers': 8.1}, 10: {'Lard of the Dance': 7.7, 'The Wizard of Evergreen Terrace': 8.2, 'Bart the Mother': 7.6, 'Treehouse of Horror IX': 8.0, 'When You Dish Upon a Star': 7.3, \"D'oh-in' in the Wind\": 7.6, \"Lisa Gets an 'A'\": 8.1, \"Homer Simpson in: 'Kidney Trouble'\": 7.3, 'Mayored to the Mob': 8.2, 'Viva Ned Flanders': 7.9, \"Wild Barts Can't Be Broken\": 7.8, 'Sunday, Cruddy Sunday': 7.0, 'Homer to the Max': 7.8, \"I'm with Cupid\": 7.3, \"Marge Simpson in 'Screaming Yellow Honkers'\": 7.3, 'Make Room for Lisa': 7.5, 'Maximum Homerdrive': 7.7, 'Simpsons Bible Stories': 7.4, 'Mom and Pop Art': 7.6, \"The Old Man and the 'C' Student\": 7.3, \"Monty Can't Buy Me Love\": 7.2, \"They Saved Lisa's Brain\": 7.4, 'Thirty Minutes Over Tokyo': 8.0}, 11: {'Beyond Blunderdome': 7.4, \"Brother's Little Helper\": 7.5, \"Guess Who's Coming to Criticize Dinner?\": 7.5, 'Treehouse of Horror X': 7.7, 'E-I-E-I-(Annoyed Grunt)': 7.7, 'Hello Gutter, Hello Fadder': 7.3, \"Eight Misbehavin'\": 7.0, 'Take My Wife, Sleaze': 7.1, 'Grift of the Magi': 7.4, 'Little Big Mom': 7.3, 'Faith Off': 6.8, 'The Mansion Family': 7.3, 'Saddlesore Galactica': 6.5, 'Alone Again, Natura-Diddly': 7.7, 'Missionary: Impossible': 7.3, 'Pygmoelian': 7.3, 'Bart to the Future': 7.0, \"Days of Wine and D'oh'ses\": 7.4, 'Kill the Alligator and Run': 6.5, 'Last Tap Dance in Springfield': 7.1, \"It's a Mad, Mad, Mad, Mad Marge\": 7.2, 'Behind the Laughter': 7.9}, 12: {'Treehouse of Horror XI': 7.7, 'A Tale of Two Springfields': 7.5, 'Insane Clown Poppy': 7.0, 'Lisa the Treehugger': 7.2, 'Homer vs. Dignity': 7.0, 'The Computer Wore Menace Shoes': 7.7, 'The Great Money Caper': 7.3, \"Skinner's Sense of Snow\": 7.9, 'HOMR': 8.1, 'Pokey Mom': 7.2, 'Worst Episode Ever': 7.4, 'Tennis the Menace': 6.9, 'Day of the Jackanapes': 7.2, 'New Kids on the Blecch': 7.2, 'Hungry Hungry Homer': 7.5, 'Bye Bye Nerdy': 6.6, 'Simpson Safari': 6.8, 'Trilogy of Error': 8.6, \"I'm Goin' to Praiseland\": 7.2, 'Children of a Lesser Clod': 7.2, 'Simpsons Tall Tales': 7.0}, 13: {'Treehouse of Horror XII': 7.5, 'The Parent Rap': 7.0, 'Homer the Moe': 7.1, 'A Hunka Hunka Burns in Love': 7.1, 'The Blunder Years': 7.7, 'She of Little Faith': 7.1, 'Brawl in the Family': 6.8, 'Sweets and Sour Marge': 7.0, 'Jaws Wired Shut': 7.2, 'Half-Decent Proposal': 7.3, 'The Bart Wants What It Wants': 7.0, 'The Lastest Gun in the West': 6.4, 'The Old Man and the Key': 6.4, 'Tales from the Public Domain': 7.2, 'Blame It on Lisa': 7.0, \"Weekend at Burnsie's\": 7.7, 'Gump Roast': 5.4, 'I Am Furious Yellow': 7.7, 'The Sweetest Apu': 6.7, 'Little Girl in the Big Ten': 7.1, 'The Frying Game': 7.0, \"Papa's Got a Brand New Badge\": 7.9}, 14: {'Treehouse of Horror XIII': 7.6, 'How I Spent My Strummer Vacation': 7.3, 'Bart vs. Lisa vs. 3rd Grade': 7.1, 'Large Marge': 7.0, 'Helter Shelter': 6.7, 'The Great Louse Detective': 7.2, 'Special Edna': 7.1, 'The Dad Who Knew Too Little': 7.3, 'The Strong Arms of the Ma': 6.8, 'Pray Anything': 6.7, 'Barting Over': 6.6, \"I'm Spelling as Fast as I Can\": 7.2, 'A Star Is Born Again': 6.9, 'Mr. Spritz Goes to Washington': 6.8, \"C.E.D'oh\": 7.2, \"'Scuse Me While I Miss the Sky\": 7.1, 'Three Gays of the Condo': 7.1, \"Dude, Where's My Ranch?\": 6.9, 'Old Yeller-Belly': 6.7, 'Brake My Wife, Please': 6.7, 'The Bart of War': 6.6, 'Moe Baby Blues': 7.7}, 15: {'Treehouse of Horror XIV': 7.5, 'My Mother the Carjacker': 7.3, 'The President Wore Pearls': 6.9, 'The Regina Monologues': 7.1, 'The Fat and the Furriest': 7.1, 'Today, I Am a Clown': 6.4, \"'Tis the Fifteenth Season\": 7.1, 'Marge vs. Singles, Seniors, Childless Couples and Teens and Gays': 6.7, 'I, (Annoyed Grunt)-Bot': 7.3, 'Diatribe of a Mad Housewife': 7.2, 'Margical History Tour': 7.1, \"Milhouse Doesn't Live Here Anymore\": 7.1, 'Smart & Smarter': 7.1, 'The Ziff Who Came to Dinner': 6.7, \"Co-Dependent's Day\": 6.7, 'The Wandering Juvie': 7.0, 'My Big Fat Geek Wedding': 6.6, \"Catch 'Em If You Can\": 7.0, 'Simple Simpson': 7.3, \"The Way We Weren't\": 7.2, 'Bart-Mangled Banner': 6.2, 'Fraudcast News': 7.2}, 16: {'Treehouse of Horror XV': 7.4, \"All's Fair in Oven War\": 6.8, 'Sleeping with the Enemy': 7.1, 'She Used to Be My Girl': 6.4, 'Fat Man and Little Boy': 7.0, 'Midnight Rx': 7.1, 'Mommie Beerest': 6.8, \"Homer and Ned's Hail Mary Pass\": 6.2, 'Pranksta Rap': 6.5, \"There's Something About Marrying\": 6.9, \"On a Clear Day I Can't See My Sister\": 6.7, 'Goo Goo Gai Pan': 6.9, 'Mobile Homer': 6.8, 'The Seven-Beer Snitch': 6.7, 'Future-Drama': 7.2, \"Don't Fear the Roofer\": 7.4, 'The Heartbroke Kid': 7.1, 'A Star Is Torn': 6.6, \"Thank God It's Doomsday\": 7.2, 'Home Away from Homer': 7.0, 'The Father, the Son, and the Holy Guest Star': 7.2}, 17: {'The Bonfire of the Manatees': 6.1, 'The Girl Who Slept Too Little': 6.8, 'Milhouse of Sand and Fog': 6.9, 'Treehouse of Horror XVI': 7.3, \"Marge's Son Poisoning\": 6.9, 'See Homer Run': 6.8, 'The Last of the Red Hat Mamas': 6.6, 'The Italian Bob': 7.0, 'Simpsons Christmas Stories': 6.8, \"Homer's Paternity Coot\": 6.6, \"We're on the Road to D'ohwhere\": 6.9, 'My Fair Laddy': 6.3, 'The Seemingly Never-Ending Story': 7.6, 'Bart Has Two Mommies': 7.0, 'Homer Simpson, This Is Your Wife': 6.4, 'Million Dollar Abie': 6.3, 'Kiss Kiss, Bang Bangalore': 7.2, 'The Wettest Stories Ever Told': 6.7, 'Girls Just Want to Have Sums': 7.1, 'Regarding Margie': 6.6, 'The Monkey Suit': 7.1, 'Homer and Marge Turn a Couple Play': 6.3}, 18: {'The Mook, the Chef, the Wife and Her Homer': 7.5, 'Jazzy & The Pussycats': 6.6, \"Please Homer, Don't Hammer 'Em\": 6.7, 'Treehouse of Horror XVII': 6.9, 'G.I. (Annoyed Grunt)': 6.7, \"Moe'N'a Lisa\": 6.7, 'Ice Cream of Margie: With the Light Blue Hair': 6.9, 'The Haw-Hawed Couple': 7.1, 'Kill Gil, Vol. 1 & 2': 6.2, 'The Wife Aquatic': 6.5, 'Revenge Is a Dish Best Served Three Times': 7.0, 'Little Big Girl': 6.7, 'Springfield Up': 7.2, 'Yokel Chords': 6.8, 'Rome-old and Juli-eh': 6.2, 'Homerazzi': 7.0, 'Marge Gamer': 7.2, 'The Boys of Bummer': 5.9, 'Crook and Ladder': 6.9, 'Stop or My Dog Will Shoot': 6.7, '24 Minutes': 8.1, 'You Kent Always Say What You Want': 7.1}, 19: {\"He Loves to Fly and He D'ohs\": 6.6, 'Homer of Seville': 6.5, 'Midnight Towboy': 7.1, \"I Don't Wanna Know Why the Caged Bird Sings\": 6.8, 'Treehouse of Horror XVIII': 6.9, 'Little Orphan Millie': 6.5, 'Husbands and Knives': 6.9, 'Funeral for a Fiend': 7.1, 'Eternal Moonshine of the Simpson Mind': 8.1, 'E Pluribus Wiggum': 6.8, \"That '90s Show\": 6.1, 'Love, Springfieldian Style': 6.5, 'The DeBarted': 7.6, \"Dial 'N' for Nerder\": 7.3, 'Smoke on the Daughter': 6.6, \"Papa Don't Leech\": 5.9, 'Apocalypse Cow': 6.7, 'Any Given Sundance': 6.9, 'Mona Leaves-a': 6.9, 'All About Lisa': 6.3}, 20: {'Sex, Pies and Idiot Scrapes': 7.2, 'Lost Verizon': 6.9, 'Double, Double, Boy in Trouble': 6.8, 'Treehouse of Horror XIX': 7.0, 'Dangerous Curves': 6.5, 'Homer and Lisa Exchange Cross Words': 7.0, 'MyPods and Boomsticks': 7.1, 'The Burns and the Bees': 6.5, 'Lisa the Drama Queen': 5.9, 'Take My Life, Please': 6.9, 'How the Test Was Won': 6.9, 'No Loan Again, Naturally': 6.8, 'Gone Maggie Gone': 7.1, 'In the Name of the Grandfather': 6.2, 'Wedding for Disaster': 6.6, 'Eeny Teeny Maya Moe': 7.1, 'The Good, the Sad and the Drugly': 7.1, 'Father Knows Worst': 6.9, \"Waverly Hills, 9021-D'Oh\": 7.1, 'Four Great Women and a Manicure': 6.3, 'Coming to Homerica': 7.2}, 21: {'Homer the Whopper': 7.0, \"Bart Gets a 'Z'\": 6.5, 'The Great Wife Hope': 6.1, 'Treehouse of Horror XX': 7.3, 'The Devil Wears Nada': 6.6, 'Pranks and Greens': 6.6, 'Rednecks and Broomsticks': 6.7, 'Oh Brother, Where Bart Thou?': 7.1, 'Thursdays with Abie': 6.6, 'Once Upon a Time in Springfield': 6.5, 'Million Dollar Maybe': 7.0, 'Boy Meets Curl': 6.7, 'The Color Yellow': 6.3, 'Postcards from the Wedge': 7.0, 'Stealing First Base': 7.0, \"The Greatest Story Ever D'ohed\": 5.7, 'American History X-cellent': 6.5, 'Chief of Hearts': 6.8, 'The Squirt and the Whale': 6.8, 'To Surveil, with Love': 7.1, 'Moe Letter Blues': 6.8, 'The Bob Next Door': 7.2, 'Judge Me Tender': 6.4}, 22: {'Elementary School Musical': 6.1, 'Loan-a Lisa': 6.7, 'MoneyBart': 6.6, 'Treehouse of Horror XXI': 7.0, \"Lisa Simpson, This Isn't Your Life\": 7.1, 'The Fool Monty': 6.3, 'How Munched Is That Birdie in the Window?': 6.2, 'The Fight Before Christmas': 6.7, 'Donnie Fatso': 6.9, \"Moms I'd Like to Forget\": 6.1, 'Flaming Moe': 6.6, 'Homer the Father': 6.9, 'The Blue and the Gray': 6.7, 'Angry Dad: The Movie': 7.1, \"The Scorpion's Tale\": 6.6, \"A Midsummer's Nice Dreams\": 5.9, 'Love Is a Many Strangled Thing': 6.1, 'The Great Simpsina': 6.8, 'The Real Housewives of Fat Tony': 6.4, 'Homer Scissorhands': 7.0, '500 Keys': 7.1, 'The Ned-Liest Catch': 6.9}, 23: {\"The Falcon and the D'Ohman\": 7.0, 'Bart Stops to Smell the Roosevelts': 7.0, 'Treehouse of Horror XXII': 6.4, 'Replaceable You': 6.4, 'The Food Wife': 7.0, 'The Book Job': 7.8, 'The Man in the Blue Flannel Pants': 6.6, 'The Ten-Per-Cent Solution': 6.0, 'Holidays of Future Passed': 8.2, 'Politically Inept, with Homer Simpson': 5.9, \"The D'oh-cial Network\": 6.9, 'Moe Goes from Rags to Riches': 5.5, 'The Daughter Also Rises': 6.2, 'At Long Last Leave': 6.9, 'Exit Through the Kwik-E-Mart': 6.8, 'How I Wet Your Mother': 7.2, 'Them, Robot': 7.0, 'Beware My Cheating Bart': 7.0, 'A Totally Fun Thing Bart Will Never Do Again': 7.5, 'The Spy Who Learned Me': 6.7, \"Ned 'N' Edna's Blend\": 6.5, 'Lisa Goes Gaga': 4.0}, 24: {'Moonshine River': 6.3, 'Treehouse of Horror XXIII': 7.2, 'Adventures in Baby-Getting': 6.8, 'Gone Abie Gone': 6.6, 'Penny-Wiseguys': 6.2, 'A Tree Grows in Springfield': 6.2, 'The Day the Earth Stood Cool': 7.0, 'To Cur with Love': 7.1, 'Homer Goes to Prep School': 6.7, 'A Test Before Trying': 6.9, 'Changing of the Guardian': 6.4, 'Love Is a Many Splintered Thing': 6.1, 'Hardly Kirk-ing': 6.9, 'Gorgeous Grampa': 6.1, 'Black-Eyed, Please': 6.9, 'Dark Knight Court': 7.0, 'What Animated Women Want': 6.3, 'Pulpit Friction': 6.3, 'Whiskey Business': 6.7, 'The Fabulous Faker Boy': 6.1, 'The Saga of Carl': 7.0, 'Dangers on a Train': 6.8}, 25: {'Homerland': 6.8, 'Treehouse of Horror XXIV': 6.9, 'Four Regrettings and a Funeral': 6.3, 'YOLO': 6.4, 'Labor Pains': 6.8, 'The Kid Is All Right': 6.3, 'Yellow Subterfuge': 6.8, 'White Christmas Blues': 6.4, 'Steal This Episode': 7.6, 'Married to the Blob': 6.9, 'Specs and the City': 7.1, 'Diggs': 6.2, 'The Man Who Grew Too Much': 6.6, 'The Winter of His Content': 6.6, 'The War of Art': 6.8, \"You Don't Have to Live Like a Referee\": 6.7, 'Luca$': 6.3, 'Days of Future Future': 6.8, \"What to Expect When Bart's Expecting\": 5.7, 'Brick Like Me': 7.8, 'Pay Pal': 6.6, 'The Yellow Badge of Cowardge': 6.5}, 26: {'Clown in the Dumps': 5.6, 'The Wreck of the Relationship': 6.8, 'Super Franchise Me': 6.3, 'Treehouse of Horror XXV': 7.4, 'Opposites A-Frack': 6.1, 'Simpsorama': 7.9, 'Blazed and Confused': 6.7, 'Covercraft': 6.3, \"I Won't Be Home for Christmas\": 6.7, 'The Man Who Came to Be Dinner': 6.7, \"Bart's New Friend\": 7.1, 'The Musk Who Fell to Earth': 5.7, 'Walking Big & Tall': 6.2, 'My Fare Lady': 6.5, 'The Princess Guide': 6.4, 'Sky Police': 6.6, 'Waiting for Duffman': 6.6, 'Peeping Mom': 6.6, 'The Kids Are All Fight': 6.7, \"Let's Go Fly a Coot\": 5.9, 'Bull-E': 6.5, \"Mathlete's Feat\": 6.7}, 27: {\"Every Man's Dream\": 5.6, \"'Cue Detective\": 6.6, 'Puffless': 7.0, 'Halloween of Horror': 7.5, 'Treehouse of Horror XXVI': 6.6, 'Friend with Benefit': 6.7, 'Lisa with an \"S\"': 5.9, 'Paths of Glory': 6.8, 'Barthood': 8.4, 'The Girl Code': 6.5, 'Teenage Mutant Milk-Caused Hurdles': 6.6, 'Much Apu About Something': 6.6, 'Love Is in the N2-O2-Ar-CO2-Ne-He-CH4': 6.3, 'Gal of Constant Sorrow': 6.5, 'Lisa the Veterinarian': 6.3, 'The Marge-ian Chronicles': 7.1, 'The Burns Cage': 6.3, 'How Lisa Got Her Marge Back': 6.2, 'Fland Canyon': 7.1, 'To Courier with Love': 6.7, 'Simprovised': 6.3, 'Orange Is the New Yellow': 6.7}, 28: {\"Monty Burns' Fleeing Circus\": 6.0, 'Friends and Family': 6.5, 'The Town': 7.1, 'Treehouse of Horror XXVII': 6.9, 'Trust But Clarify': 6.3, 'There Will Be Buds': 6.8, 'Havana Wild Weekend': 6.2, 'Dad Behavior': 6.6, 'The Last Traction Hero': 6.3, 'The Nightmare After Krustmas': 5.9, 'Pork and Burns': 6.9, 'The Great Phatsby': 6.2, 'Fatzcarraldo': 6.3, 'The Cad and the Hat': 6.5, 'Kamp Krustier': 6.5, '22 for 30': 6.5, \"A Father's Watch\": 6.9, 'The Caper Chase': 6.1, 'Looking for Mr. Goodbart': 6.9, 'Moho House': 6.1, 'Dogtown': 6.5}, 29: {'The Serfsons': 6.7, 'Springfield Splendor': 6.5, \"Whistler's Father\": 6.1, 'Treehouse of Horror XXVIII': 7.1, 'Grampy Can Ya Hear Me': 6.3, \"The Old Blue Mayor She Ain't What She Used To Be\": 6.3, \"Singin' in the Lane\": 6.4, \"Mr. Lisa's Opus\": 6.8, 'Gone Boy': 7.3, 'Haw-Haw Land': 6.6, 'Frink Gets Testy': 6.2, \"Homer is Where the Art Isn't\": 6.6, '3 Scenes Plus a Tag from a Marriage': 6.6, 'Fears of a Clown': 6.1, 'No Good Read Goes Unpunished': 6.4, 'King Leer': 6.4, 'Lisa Gets the Blues': 6.9, 'Forgive and Regret': 7.0, 'Left Behind': 6.6, 'Throw Grampa from the Dane': 6.7, \"Flanders' Ladder\": 7.6}, 31: {'The Winter of Our Monetized Content': 5.0, 'Go Big or Go Homer': 5.0, 'The Fat Blue Line': 5.0, 'Treehouse of Horror XXX': 5.0, 'Episode #31.5': 5.0, 'Episode #31.6': 5.0, 'Episode #31.7': 5.0}, 32: {'Episode #32.1': 5.0}}\n"
          ],
          "name": "stdout"
        }
      ]
    },
    {
      "cell_type": "markdown",
      "metadata": {
        "id": "OUzUuuHQ086X",
        "colab_type": "text"
      },
      "source": [
        "With `plt.hist`, plot a histogram of the rating distribution for all Simpsons episodes. \n",
        "\n",
        "* What is the modal rating? **It shows the episode whether a good or a bad rating in audience mind.**\n",
        "* What is the range of ratings? _**the minimun rating is  4.0 , the maximum rating is  9.3**"
      ]
    },
    {
      "cell_type": "code",
      "metadata": {
        "id": "Ga0Gttx9086X",
        "colab_type": "code",
        "outputId": "579ec207-8095-49fc-faad-4cd79d634ae7",
        "colab": {
          "base_uri": "https://localhost:8080/",
          "height": 312
        }
      },
      "source": [
        "x=list()\n",
        "for key in simpsons.keys():\n",
        "  for b in simpsons[key].values():\n",
        "    x.append(b)\n",
        "n, bins, patches = plt.hist(x, 10, facecolor='g', alpha=0.75)\n",
        "\n",
        "\n",
        "plt.xlabel('Rating')\n",
        "plt.ylabel('Frequency')\n",
        "plt.title('Rating distribution for all Simpsons episodes')\n",
        "plt.grid(True)\n",
        "plt.show()\n",
        "print('the minimun rating is ',min(x),\", the maximum rating is \",max(x))\n"
      ],
      "execution_count": 33,
      "outputs": [
        {
          "output_type": "display_data",
          "data": {
            "image/png": "[encoded data removed]",
            "text/plain": [
              "<Figure size 432x288 with 1 Axes>"
            ]
          },
          "metadata": {
            "tags": []
          }
        },
        {
          "output_type": "stream",
          "text": [
            "the minimun rating is  4.0 , the maximum rating is  9.3\n"
          ],
          "name": "stdout"
        }
      ]
    },
    {
      "cell_type": "markdown",
      "metadata": {
        "id": "kNPUyjGgwT2a",
        "colab_type": "text"
      },
      "source": [
        ""
      ]
    },
    {
      "cell_type": "markdown",
      "metadata": {
        "id": "glwBMIR2086Z",
        "colab_type": "text"
      },
      "source": [
        "Next, use `sklearn.mixture.GaussianMixture` to fit a Mixture of Gaussians to the Simpsons rating distribution. Since we are trying to distinguish between good and bad ratings, we only need 2 gaussians.\n",
        "\n",
        "* What are the means for the two Gaussians fit by the model? _bad_mean:6.7734211, Good_mean: 8.17942889_\n",
        "* What about the standard deviations? _bad standard deviation:0.59689303_ good standard deviation:0.4741226"
      ]
    },
    {
      "cell_type": "code",
      "metadata": {
        "id": "riwwY7rG086Z",
        "colab_type": "code",
        "colab": {
          "base_uri": "https://localhost:8080/",
          "height": 225
        },
        "outputId": "80a4d979-79ba-4b06-8286-f415049c1d07"
      },
      "source": [
        "import pandas as pd\n",
        "rating= x\n",
        "fa=pd.DataFrame(rating)\n",
        "haha=[]\n",
        "for i in range(len(x)):\n",
        "  haha.append(0)\n",
        "fa['haha']=haha\n",
        "from sklearn.mixture import GaussianMixture\n",
        "gmr = GaussianMixture(n_components = 2,\n",
        "                    covariance_type = 'full', random_state=0, )\n",
        "gmr.fit(fa)\n",
        "print(gmr.means_)\n",
        "print(gmr.covariances_)\n",
        "print(np.sqrt(gmr.covariances_))\n"
      ],
      "execution_count": 34,
      "outputs": [
        {
          "output_type": "stream",
          "text": [
            "[[6.7734211  0.        ]\n",
            " [8.17942889 0.        ]]\n",
            "[[[3.56281287e-01 0.00000000e+00]\n",
            "  [0.00000000e+00 1.00000000e-06]]\n",
            "\n",
            " [[2.24792242e-01 0.00000000e+00]\n",
            "  [0.00000000e+00 1.00000000e-06]]]\n",
            "[[[0.59689303 0.        ]\n",
            "  [0.         0.001     ]]\n",
            "\n",
            " [[0.4741226  0.        ]\n",
            "  [0.         0.001     ]]]\n"
          ],
          "name": "stdout"
        }
      ]
    },
    {
      "cell_type": "code",
      "metadata": {
        "id": "XBv5xZRZlCpa",
        "colab_type": "code",
        "colab": {}
      },
      "source": [
        "# Xs = []\n",
        "# Ys = []\n",
        "# simpsons = dict(sorted(list(simpsons.items()), key=lambda x: x[0]))\n",
        "# for season, episodes in simpsons.items():\n",
        "#      bad = 0\n",
        "#      good = 0\n",
        "#      for episode in episodes.values():\n",
        "#           if gm.predict(np.array(\n",
        "#                episode\n",
        "#           ).reshape(-1,1)) == 0:\n",
        "#                good += 1\n",
        "#           else:\n",
        "#                bad += 1\n",
        "#      Xs.append(season)\n",
        "#      Ys.append(bad/(good+bad))\n",
        "# plt.plot(Xs,Ys);"
      ],
      "execution_count": 0,
      "outputs": []
    },
    {
      "cell_type": "markdown",
      "metadata": {
        "id": "08-49Uzv086a",
        "colab_type": "text"
      },
      "source": [
        "Finally, using the `GaussianMixture.predict()` method, we can use maximum likelihood to estimate which distribution, good or bad, each episode belongs to. In the cell below, count the number of episodes predicted to be in the \"good\" distribution per season, and plot using `plt.plot`.\n",
        "\n",
        "* Where is the notable drop-off point? _ season 11_\n",
        "* When is the first season with 0 good episodes? _season 15_"
      ]
    },
    {
      "cell_type": "code",
      "metadata": {
        "id": "I5pK_a0r086b",
        "colab_type": "code",
        "colab": {
          "base_uri": "https://localhost:8080/",
          "height": 593
        },
        "outputId": "a70788cd-3b42-41ba-83c5-d99dc27b94b8"
      },
      "source": [
        "simpsons = dict(sorted(list(simpsons.items()), key=lambda x: x[0]))\n",
        "print(simpsons)\n",
        "y=list()\n",
        "for key in simpsons.keys():\n",
        "  for b in simpsons[key].values():\n",
        "    y.append(b)\n",
        "rating1= y\n",
        "\n",
        "fa1=pd.DataFrame(rating1)\n",
        "haha1=[]\n",
        "for i in range(len(y)):\n",
        "  haha1.append(0)\n",
        "fa1['haha']=haha1\n",
        "pr=gmr.predict(fa1)\n",
        "pr"
      ],
      "execution_count": 36,
      "outputs": [
        {
          "output_type": "stream",
          "text": [
            "{1: {'Simpsons Roasting on an Open Fire': 8.2, 'Bart the Genius': 7.8, \"Homer's Odyssey\": 7.4, \"There's No Disgrace Like Home\": 7.7, 'Bart the General': 8.1, 'Moaning Lisa': 7.6, 'The Call of the Simpsons': 7.8, 'The Telltale Head': 7.7, 'Life on the Fast Lane': 7.5, \"Homer's Night Out\": 7.4, 'The Crepes of Wrath': 7.8, 'Krusty Gets Busted': 8.4, 'Some Enchanted Evening': 7.8}, 2: {'Bart Gets an F': 8.2, 'Simpson and Delilah': 8.3, 'Treehouse of Horror': 8.3, 'Two Cars in Every Garage and Three Eyes on Every Fish': 8.1, \"Dancin' Homer\": 7.5, 'Dead Putting Society': 8.0, 'Bart vs. Thanksgiving': 7.8, 'Bart the Daredevil': 8.4, 'Itchy and Scratchy and Marge': 8.1, 'Bart Gets Hit by a Car': 7.8, 'One Fish, Two Fish, Blowfish, Blue Fish': 8.8, 'The Way We Was': 8.3, 'Homer vs. Lisa and the 8th Commandment': 8.0, 'Principal Charming': 7.5, 'Oh Brother, Where Art Thou?': 8.3, \"Bart's Dog Gets an F\": 7.5, 'Old Money': 7.6, 'Brush with Greatness': 8.0, \"Lisa's Substitute\": 8.5, 'The War of the Simpsons': 7.9, 'Three Men and a Comic Book': 8.3, 'Blood Feud': 7.9}, 3: {'Stark Raving Dad': 8.6, 'Mr. Lisa Goes to Washington': 7.8, 'When Flanders Failed': 8.2, 'Bart the Murderer': 8.6, 'Homer Defined': 8.5, 'Like Father, Like Clown': 7.7, 'Treehouse of Horror II': 8.3, \"Lisa's Pony\": 7.9, 'Saturdays of Thunder': 7.9, \"Flaming Moe's\": 8.8, 'Burns Verkaufen der Kraftwerk': 8.3, 'I Married Marge': 8.3, 'Radio Bart': 8.5, 'Lisa the Greek': 8.0, 'Homer Alone': 8.1, 'Bart the Lover': 8.3, 'Homer at the Bat': 8.7, 'Separate Vocations': 8.2, 'Dog of Death': 7.8, 'Colonel Homer': 8.0, 'Black Widower': 8.3, 'The Otto Show': 7.8, \"Bart's Friend Falls in Love\": 7.8, 'Brother, Can You Spare Two Dimes?': 8.2}, 4: {'Kamp Krusty': 8.5, 'A Streetcar Named Marge': 8.2, 'Homer the Heretic': 9.0, 'Lisa the Beauty Queen': 7.8, 'Treehouse of Horror III': 8.5, 'Itchy & Scratchy: The Movie': 8.2, 'Marge Gets a Job': 7.9, 'New Kid on the Block': 8.2, 'Mr. Plow': 8.8, \"Lisa's First Word\": 8.6, \"Homer's Triple Bypass\": 8.7, 'Marge vs. the Monorail': 9.0, \"Selma's Choice\": 8.0, 'Brother from the Same Planet': 8.2, 'I Love Lisa': 8.4, 'Duffless': 8.4, 'Last Exit to Springfield': 9.1, \"So It's Come to This: A Simpsons Clip Show\": 7.1, 'The Front': 8.1, 'Whacking Day': 8.1, 'Marge in Chains': 7.7, 'Krusty Gets Kancelled': 8.2}, 5: {\"Homer's Barbershop Quartet\": 8.5, 'Cape Feare': 9.1, 'Homer Goes to College': 8.6, 'Rosebud': 8.9, 'Treehouse of Horror IV': 8.8, 'Marge on the Lam': 8.1, \"Bart's Inner Child\": 7.7, \"Boy Scoutz 'n the Hood\": 8.7, 'The Last Temptation of Homer': 8.4, '$pringfield (Or, How I Learned to Stop Worrying and Love Legalized Gambling)': 8.6, 'Homer the Vigilante': 8.3, 'Bart Gets Famous': 8.2, 'Homer and Apu': 8.3, 'Lisa vs. Malibu Stacy': 8.2, 'Deep Space Homer': 8.8, 'Homer Loves Flanders': 8.5, 'Bart Gets an Elephant': 7.9, \"Burns' Heir\": 8.4, \"Sweet Seymour Skinner's Baadasssss Song\": 8.4, 'The Boy Who Knew Too Much': 8.3, \"Lady Bouvier's Lover\": 7.6, 'Secrets of a Successful Marriage': 8.1}, 6: {'Bart of Darkness': 8.7, \"Lisa's Rival\": 8.1, 'Another Simpsons Clip Show': 5.9, 'Itchy & Scratchy Land': 8.6, 'Sideshow Bob Roberts': 8.3, 'Treehouse of Horror V': 9.1, \"Bart's Girlfriend\": 8.1, 'Lisa on Ice': 8.5, 'Homer Badman': 9.0, 'Grampa vs. Sexual Inadequacy': 8.1, 'Fear of Flying': 7.8, 'Homer the Great': 9.0, 'And Maggie Makes Three': 8.7, \"Bart's Comet\": 8.7, 'Homie the Clown': 8.6, 'Bart vs. Australia': 8.5, 'Homer vs. Patty and Selma': 7.9, 'A Star Is Burns': 8.5, \"Lisa's Wedding\": 8.3, 'Two Dozen and One Greyhounds': 8.2, 'The PTA Disbands': 8.1, \"'Round Springfield\": 8.2, 'The Springfield Connection': 8.2, 'Lemon of Troy': 8.7, 'Who Shot Mr. Burns? Part One': 9.1}, 7: {'Who Shot Mr. Burns? Part Two': 9.0, 'Radioactive Man': 8.3, 'Home Sweet Home-Dum-Diddly Doodily': 8.4, 'Bart Sells His Soul': 8.8, 'Lisa the Vegetarian': 8.5, 'Treehouse of Horror VI': 8.6, 'King Size Homer': 9.0, 'Mother Simpson': 8.6, \"Sideshow Bob's Last Gleaming\": 8.1, 'The Simpsons 138th Episode Spectacular!': 7.5, 'Marge Be Not Proud': 8.4, 'Team Homer': 8.3, 'Two Bad Neighbors': 8.6, 'Scenes from the Class Struggle in Springfield': 7.7, 'Bart the Fink': 7.7, 'Lisa the Iconoclast': 8.2, 'Homer the Smithers': 8.9, 'The Day the Violence Died': 8.0, 'A Fish Called Selma': 8.2, 'Bart on the Road': 8.6, '22 Short Films About Springfield': 8.9, \"Raging Abe Simpson and His Grumbling Grandson in 'The Curse of the Flying Hellfish'\": 8.4, 'Much Apu About Nothing': 8.1, 'Homerpalooza': 8.0, 'Summer of 4\\'2\"': 8.4}, 8: {'Treehouse of Horror VII': 8.4, 'You Only Move Twice': 9.2, 'The Homer They Fall': 8.1, 'Burns, Baby Burns': 7.7, 'Bart After Dark': 8.3, 'A Milhouse Divided': 8.1, \"Lisa's Date with Density\": 7.9, 'Hurricane Neddy': 8.8, 'El Viaje Misterioso De Nuestro Jomer': 8.6, 'The Springfield Files': 9.1, 'The Twisted World of Marge Simpson': 7.8, 'Mountain of Madness': 8.6, 'Simpsoncalifragilisticexpiala(Annoyed Grunt)cious': 7.7, 'The Itchy & Scratchy & Poochie Show': 8.0, \"Homer's Phobia\": 8.8, 'Brother from Another Series': 8.2, 'My Sister, My Sitter': 8.0, 'Homer vs. the 18th Amendment': 8.8, 'Grade School Confidential': 8.2, 'The Canine Mutiny': 7.7, 'The Old Man and the Lisa': 7.9, 'In Marge We Trust': 8.1, \"Homer's Enemy\": 9.3, 'The Simpsons Spin-Off Showcase': 7.3, 'The Secret War of Lisa Simpson': 7.9}, 9: {'The City of New York vs. Homer Simpson': 9.1, 'The Principal and the Pauper': 7.0, \"Lisa's Sax\": 8.1, 'Treehouse of Horror VIII': 8.2, 'The Cartridge Family': 8.2, 'Bart Star': 7.7, 'The Two Mrs. Nahasapeemapetilons': 7.8, 'Lisa the Skeptic': 8.1, 'Realty Bites': 7.6, 'Miracle on Evergreen Terrace': 7.6, 'All Singing, All Dancing': 5.0, 'Bart Carny': 7.7, 'The Joy of Sect': 8.3, 'Das Bus': 8.2, 'The Last Temptation of Krust': 7.5, 'Dumbbell Indemnity': 7.7, 'Lisa the Simpson': 8.0, 'This Little Wiggy': 7.9, 'Simpson Tide': 8.2, 'The Trouble with Trillions': 7.9, 'Girly Edition': 7.9, 'Trash of the Titans': 8.4, 'King of the Hill': 8.2, 'Lost Our Lisa': 7.8, 'Natural Born Kissers': 8.1}, 10: {'Lard of the Dance': 7.7, 'The Wizard of Evergreen Terrace': 8.2, 'Bart the Mother': 7.6, 'Treehouse of Horror IX': 8.0, 'When You Dish Upon a Star': 7.3, \"D'oh-in' in the Wind\": 7.6, \"Lisa Gets an 'A'\": 8.1, \"Homer Simpson in: 'Kidney Trouble'\": 7.3, 'Mayored to the Mob': 8.2, 'Viva Ned Flanders': 7.9, \"Wild Barts Can't Be Broken\": 7.8, 'Sunday, Cruddy Sunday': 7.0, 'Homer to the Max': 7.8, \"I'm with Cupid\": 7.3, \"Marge Simpson in 'Screaming Yellow Honkers'\": 7.3, 'Make Room for Lisa': 7.5, 'Maximum Homerdrive': 7.7, 'Simpsons Bible Stories': 7.4, 'Mom and Pop Art': 7.6, \"The Old Man and the 'C' Student\": 7.3, \"Monty Can't Buy Me Love\": 7.2, \"They Saved Lisa's Brain\": 7.4, 'Thirty Minutes Over Tokyo': 8.0}, 11: {'Beyond Blunderdome': 7.4, \"Brother's Little Helper\": 7.5, \"Guess Who's Coming to Criticize Dinner?\": 7.5, 'Treehouse of Horror X': 7.7, 'E-I-E-I-(Annoyed Grunt)': 7.7, 'Hello Gutter, Hello Fadder': 7.3, \"Eight Misbehavin'\": 7.0, 'Take My Wife, Sleaze': 7.1, 'Grift of the Magi': 7.4, 'Little Big Mom': 7.3, 'Faith Off': 6.8, 'The Mansion Family': 7.3, 'Saddlesore Galactica': 6.5, 'Alone Again, Natura-Diddly': 7.7, 'Missionary: Impossible': 7.3, 'Pygmoelian': 7.3, 'Bart to the Future': 7.0, \"Days of Wine and D'oh'ses\": 7.4, 'Kill the Alligator and Run': 6.5, 'Last Tap Dance in Springfield': 7.1, \"It's a Mad, Mad, Mad, Mad Marge\": 7.2, 'Behind the Laughter': 7.9}, 12: {'Treehouse of Horror XI': 7.7, 'A Tale of Two Springfields': 7.5, 'Insane Clown Poppy': 7.0, 'Lisa the Treehugger': 7.2, 'Homer vs. Dignity': 7.0, 'The Computer Wore Menace Shoes': 7.7, 'The Great Money Caper': 7.3, \"Skinner's Sense of Snow\": 7.9, 'HOMR': 8.1, 'Pokey Mom': 7.2, 'Worst Episode Ever': 7.4, 'Tennis the Menace': 6.9, 'Day of the Jackanapes': 7.2, 'New Kids on the Blecch': 7.2, 'Hungry Hungry Homer': 7.5, 'Bye Bye Nerdy': 6.6, 'Simpson Safari': 6.8, 'Trilogy of Error': 8.6, \"I'm Goin' to Praiseland\": 7.2, 'Children of a Lesser Clod': 7.2, 'Simpsons Tall Tales': 7.0}, 13: {'Treehouse of Horror XII': 7.5, 'The Parent Rap': 7.0, 'Homer the Moe': 7.1, 'A Hunka Hunka Burns in Love': 7.1, 'The Blunder Years': 7.7, 'She of Little Faith': 7.1, 'Brawl in the Family': 6.8, 'Sweets and Sour Marge': 7.0, 'Jaws Wired Shut': 7.2, 'Half-Decent Proposal': 7.3, 'The Bart Wants What It Wants': 7.0, 'The Lastest Gun in the West': 6.4, 'The Old Man and the Key': 6.4, 'Tales from the Public Domain': 7.2, 'Blame It on Lisa': 7.0, \"Weekend at Burnsie's\": 7.7, 'Gump Roast': 5.4, 'I Am Furious Yellow': 7.7, 'The Sweetest Apu': 6.7, 'Little Girl in the Big Ten': 7.1, 'The Frying Game': 7.0, \"Papa's Got a Brand New Badge\": 7.9}, 14: {'Treehouse of Horror XIII': 7.6, 'How I Spent My Strummer Vacation': 7.3, 'Bart vs. Lisa vs. 3rd Grade': 7.1, 'Large Marge': 7.0, 'Helter Shelter': 6.7, 'The Great Louse Detective': 7.2, 'Special Edna': 7.1, 'The Dad Who Knew Too Little': 7.3, 'The Strong Arms of the Ma': 6.8, 'Pray Anything': 6.7, 'Barting Over': 6.6, \"I'm Spelling as Fast as I Can\": 7.2, 'A Star Is Born Again': 6.9, 'Mr. Spritz Goes to Washington': 6.8, \"C.E.D'oh\": 7.2, \"'Scuse Me While I Miss the Sky\": 7.1, 'Three Gays of the Condo': 7.1, \"Dude, Where's My Ranch?\": 6.9, 'Old Yeller-Belly': 6.7, 'Brake My Wife, Please': 6.7, 'The Bart of War': 6.6, 'Moe Baby Blues': 7.7}, 15: {'Treehouse of Horror XIV': 7.5, 'My Mother the Carjacker': 7.3, 'The President Wore Pearls': 6.9, 'The Regina Monologues': 7.1, 'The Fat and the Furriest': 7.1, 'Today, I Am a Clown': 6.4, \"'Tis the Fifteenth Season\": 7.1, 'Marge vs. Singles, Seniors, Childless Couples and Teens and Gays': 6.7, 'I, (Annoyed Grunt)-Bot': 7.3, 'Diatribe of a Mad Housewife': 7.2, 'Margical History Tour': 7.1, \"Milhouse Doesn't Live Here Anymore\": 7.1, 'Smart & Smarter': 7.1, 'The Ziff Who Came to Dinner': 6.7, \"Co-Dependent's Day\": 6.7, 'The Wandering Juvie': 7.0, 'My Big Fat Geek Wedding': 6.6, \"Catch 'Em If You Can\": 7.0, 'Simple Simpson': 7.3, \"The Way We Weren't\": 7.2, 'Bart-Mangled Banner': 6.2, 'Fraudcast News': 7.2}, 16: {'Treehouse of Horror XV': 7.4, \"All's Fair in Oven War\": 6.8, 'Sleeping with the Enemy': 7.1, 'She Used to Be My Girl': 6.4, 'Fat Man and Little Boy': 7.0, 'Midnight Rx': 7.1, 'Mommie Beerest': 6.8, \"Homer and Ned's Hail Mary Pass\": 6.2, 'Pranksta Rap': 6.5, \"There's Something About Marrying\": 6.9, \"On a Clear Day I Can't See My Sister\": 6.7, 'Goo Goo Gai Pan': 6.9, 'Mobile Homer': 6.8, 'The Seven-Beer Snitch': 6.7, 'Future-Drama': 7.2, \"Don't Fear the Roofer\": 7.4, 'The Heartbroke Kid': 7.1, 'A Star Is Torn': 6.6, \"Thank God It's Doomsday\": 7.2, 'Home Away from Homer': 7.0, 'The Father, the Son, and the Holy Guest Star': 7.2}, 17: {'The Bonfire of the Manatees': 6.1, 'The Girl Who Slept Too Little': 6.8, 'Milhouse of Sand and Fog': 6.9, 'Treehouse of Horror XVI': 7.3, \"Marge's Son Poisoning\": 6.9, 'See Homer Run': 6.8, 'The Last of the Red Hat Mamas': 6.6, 'The Italian Bob': 7.0, 'Simpsons Christmas Stories': 6.8, \"Homer's Paternity Coot\": 6.6, \"We're on the Road to D'ohwhere\": 6.9, 'My Fair Laddy': 6.3, 'The Seemingly Never-Ending Story': 7.6, 'Bart Has Two Mommies': 7.0, 'Homer Simpson, This Is Your Wife': 6.4, 'Million Dollar Abie': 6.3, 'Kiss Kiss, Bang Bangalore': 7.2, 'The Wettest Stories Ever Told': 6.7, 'Girls Just Want to Have Sums': 7.1, 'Regarding Margie': 6.6, 'The Monkey Suit': 7.1, 'Homer and Marge Turn a Couple Play': 6.3}, 18: {'The Mook, the Chef, the Wife and Her Homer': 7.5, 'Jazzy & The Pussycats': 6.6, \"Please Homer, Don't Hammer 'Em\": 6.7, 'Treehouse of Horror XVII': 6.9, 'G.I. (Annoyed Grunt)': 6.7, \"Moe'N'a Lisa\": 6.7, 'Ice Cream of Margie: With the Light Blue Hair': 6.9, 'The Haw-Hawed Couple': 7.1, 'Kill Gil, Vol. 1 & 2': 6.2, 'The Wife Aquatic': 6.5, 'Revenge Is a Dish Best Served Three Times': 7.0, 'Little Big Girl': 6.7, 'Springfield Up': 7.2, 'Yokel Chords': 6.8, 'Rome-old and Juli-eh': 6.2, 'Homerazzi': 7.0, 'Marge Gamer': 7.2, 'The Boys of Bummer': 5.9, 'Crook and Ladder': 6.9, 'Stop or My Dog Will Shoot': 6.7, '24 Minutes': 8.1, 'You Kent Always Say What You Want': 7.1}, 19: {\"He Loves to Fly and He D'ohs\": 6.6, 'Homer of Seville': 6.5, 'Midnight Towboy': 7.1, \"I Don't Wanna Know Why the Caged Bird Sings\": 6.8, 'Treehouse of Horror XVIII': 6.9, 'Little Orphan Millie': 6.5, 'Husbands and Knives': 6.9, 'Funeral for a Fiend': 7.1, 'Eternal Moonshine of the Simpson Mind': 8.1, 'E Pluribus Wiggum': 6.8, \"That '90s Show\": 6.1, 'Love, Springfieldian Style': 6.5, 'The DeBarted': 7.6, \"Dial 'N' for Nerder\": 7.3, 'Smoke on the Daughter': 6.6, \"Papa Don't Leech\": 5.9, 'Apocalypse Cow': 6.7, 'Any Given Sundance': 6.9, 'Mona Leaves-a': 6.9, 'All About Lisa': 6.3}, 20: {'Sex, Pies and Idiot Scrapes': 7.2, 'Lost Verizon': 6.9, 'Double, Double, Boy in Trouble': 6.8, 'Treehouse of Horror XIX': 7.0, 'Dangerous Curves': 6.5, 'Homer and Lisa Exchange Cross Words': 7.0, 'MyPods and Boomsticks': 7.1, 'The Burns and the Bees': 6.5, 'Lisa the Drama Queen': 5.9, 'Take My Life, Please': 6.9, 'How the Test Was Won': 6.9, 'No Loan Again, Naturally': 6.8, 'Gone Maggie Gone': 7.1, 'In the Name of the Grandfather': 6.2, 'Wedding for Disaster': 6.6, 'Eeny Teeny Maya Moe': 7.1, 'The Good, the Sad and the Drugly': 7.1, 'Father Knows Worst': 6.9, \"Waverly Hills, 9021-D'Oh\": 7.1, 'Four Great Women and a Manicure': 6.3, 'Coming to Homerica': 7.2}, 21: {'Homer the Whopper': 7.0, \"Bart Gets a 'Z'\": 6.5, 'The Great Wife Hope': 6.1, 'Treehouse of Horror XX': 7.3, 'The Devil Wears Nada': 6.6, 'Pranks and Greens': 6.6, 'Rednecks and Broomsticks': 6.7, 'Oh Brother, Where Bart Thou?': 7.1, 'Thursdays with Abie': 6.6, 'Once Upon a Time in Springfield': 6.5, 'Million Dollar Maybe': 7.0, 'Boy Meets Curl': 6.7, 'The Color Yellow': 6.3, 'Postcards from the Wedge': 7.0, 'Stealing First Base': 7.0, \"The Greatest Story Ever D'ohed\": 5.7, 'American History X-cellent': 6.5, 'Chief of Hearts': 6.8, 'The Squirt and the Whale': 6.8, 'To Surveil, with Love': 7.1, 'Moe Letter Blues': 6.8, 'The Bob Next Door': 7.2, 'Judge Me Tender': 6.4}, 22: {'Elementary School Musical': 6.1, 'Loan-a Lisa': 6.7, 'MoneyBart': 6.6, 'Treehouse of Horror XXI': 7.0, \"Lisa Simpson, This Isn't Your Life\": 7.1, 'The Fool Monty': 6.3, 'How Munched Is That Birdie in the Window?': 6.2, 'The Fight Before Christmas': 6.7, 'Donnie Fatso': 6.9, \"Moms I'd Like to Forget\": 6.1, 'Flaming Moe': 6.6, 'Homer the Father': 6.9, 'The Blue and the Gray': 6.7, 'Angry Dad: The Movie': 7.1, \"The Scorpion's Tale\": 6.6, \"A Midsummer's Nice Dreams\": 5.9, 'Love Is a Many Strangled Thing': 6.1, 'The Great Simpsina': 6.8, 'The Real Housewives of Fat Tony': 6.4, 'Homer Scissorhands': 7.0, '500 Keys': 7.1, 'The Ned-Liest Catch': 6.9}, 23: {\"The Falcon and the D'Ohman\": 7.0, 'Bart Stops to Smell the Roosevelts': 7.0, 'Treehouse of Horror XXII': 6.4, 'Replaceable You': 6.4, 'The Food Wife': 7.0, 'The Book Job': 7.8, 'The Man in the Blue Flannel Pants': 6.6, 'The Ten-Per-Cent Solution': 6.0, 'Holidays of Future Passed': 8.2, 'Politically Inept, with Homer Simpson': 5.9, \"The D'oh-cial Network\": 6.9, 'Moe Goes from Rags to Riches': 5.5, 'The Daughter Also Rises': 6.2, 'At Long Last Leave': 6.9, 'Exit Through the Kwik-E-Mart': 6.8, 'How I Wet Your Mother': 7.2, 'Them, Robot': 7.0, 'Beware My Cheating Bart': 7.0, 'A Totally Fun Thing Bart Will Never Do Again': 7.5, 'The Spy Who Learned Me': 6.7, \"Ned 'N' Edna's Blend\": 6.5, 'Lisa Goes Gaga': 4.0}, 24: {'Moonshine River': 6.3, 'Treehouse of Horror XXIII': 7.2, 'Adventures in Baby-Getting': 6.8, 'Gone Abie Gone': 6.6, 'Penny-Wiseguys': 6.2, 'A Tree Grows in Springfield': 6.2, 'The Day the Earth Stood Cool': 7.0, 'To Cur with Love': 7.1, 'Homer Goes to Prep School': 6.7, 'A Test Before Trying': 6.9, 'Changing of the Guardian': 6.4, 'Love Is a Many Splintered Thing': 6.1, 'Hardly Kirk-ing': 6.9, 'Gorgeous Grampa': 6.1, 'Black-Eyed, Please': 6.9, 'Dark Knight Court': 7.0, 'What Animated Women Want': 6.3, 'Pulpit Friction': 6.3, 'Whiskey Business': 6.7, 'The Fabulous Faker Boy': 6.1, 'The Saga of Carl': 7.0, 'Dangers on a Train': 6.8}, 25: {'Homerland': 6.8, 'Treehouse of Horror XXIV': 6.9, 'Four Regrettings and a Funeral': 6.3, 'YOLO': 6.4, 'Labor Pains': 6.8, 'The Kid Is All Right': 6.3, 'Yellow Subterfuge': 6.8, 'White Christmas Blues': 6.4, 'Steal This Episode': 7.6, 'Married to the Blob': 6.9, 'Specs and the City': 7.1, 'Diggs': 6.2, 'The Man Who Grew Too Much': 6.6, 'The Winter of His Content': 6.6, 'The War of Art': 6.8, \"You Don't Have to Live Like a Referee\": 6.7, 'Luca$': 6.3, 'Days of Future Future': 6.8, \"What to Expect When Bart's Expecting\": 5.7, 'Brick Like Me': 7.8, 'Pay Pal': 6.6, 'The Yellow Badge of Cowardge': 6.5}, 26: {'Clown in the Dumps': 5.6, 'The Wreck of the Relationship': 6.8, 'Super Franchise Me': 6.3, 'Treehouse of Horror XXV': 7.4, 'Opposites A-Frack': 6.1, 'Simpsorama': 7.9, 'Blazed and Confused': 6.7, 'Covercraft': 6.3, \"I Won't Be Home for Christmas\": 6.7, 'The Man Who Came to Be Dinner': 6.7, \"Bart's New Friend\": 7.1, 'The Musk Who Fell to Earth': 5.7, 'Walking Big & Tall': 6.2, 'My Fare Lady': 6.5, 'The Princess Guide': 6.4, 'Sky Police': 6.6, 'Waiting for Duffman': 6.6, 'Peeping Mom': 6.6, 'The Kids Are All Fight': 6.7, \"Let's Go Fly a Coot\": 5.9, 'Bull-E': 6.5, \"Mathlete's Feat\": 6.7}, 27: {\"Every Man's Dream\": 5.6, \"'Cue Detective\": 6.6, 'Puffless': 7.0, 'Halloween of Horror': 7.5, 'Treehouse of Horror XXVI': 6.6, 'Friend with Benefit': 6.7, 'Lisa with an \"S\"': 5.9, 'Paths of Glory': 6.8, 'Barthood': 8.4, 'The Girl Code': 6.5, 'Teenage Mutant Milk-Caused Hurdles': 6.6, 'Much Apu About Something': 6.6, 'Love Is in the N2-O2-Ar-CO2-Ne-He-CH4': 6.3, 'Gal of Constant Sorrow': 6.5, 'Lisa the Veterinarian': 6.3, 'The Marge-ian Chronicles': 7.1, 'The Burns Cage': 6.3, 'How Lisa Got Her Marge Back': 6.2, 'Fland Canyon': 7.1, 'To Courier with Love': 6.7, 'Simprovised': 6.3, 'Orange Is the New Yellow': 6.7}, 28: {\"Monty Burns' Fleeing Circus\": 6.0, 'Friends and Family': 6.5, 'The Town': 7.1, 'Treehouse of Horror XXVII': 6.9, 'Trust But Clarify': 6.3, 'There Will Be Buds': 6.8, 'Havana Wild Weekend': 6.2, 'Dad Behavior': 6.6, 'The Last Traction Hero': 6.3, 'The Nightmare After Krustmas': 5.9, 'Pork and Burns': 6.9, 'The Great Phatsby': 6.2, 'Fatzcarraldo': 6.3, 'The Cad and the Hat': 6.5, 'Kamp Krustier': 6.5, '22 for 30': 6.5, \"A Father's Watch\": 6.9, 'The Caper Chase': 6.1, 'Looking for Mr. Goodbart': 6.9, 'Moho House': 6.1, 'Dogtown': 6.5}, 29: {'The Serfsons': 6.7, 'Springfield Splendor': 6.5, \"Whistler's Father\": 6.1, 'Treehouse of Horror XXVIII': 7.1, 'Grampy Can Ya Hear Me': 6.3, \"The Old Blue Mayor She Ain't What She Used To Be\": 6.3, \"Singin' in the Lane\": 6.4, \"Mr. Lisa's Opus\": 6.8, 'Gone Boy': 7.3, 'Haw-Haw Land': 6.6, 'Frink Gets Testy': 6.2, \"Homer is Where the Art Isn't\": 6.6, '3 Scenes Plus a Tag from a Marriage': 6.6, 'Fears of a Clown': 6.1, 'No Good Read Goes Unpunished': 6.4, 'King Leer': 6.4, 'Lisa Gets the Blues': 6.9, 'Forgive and Regret': 7.0, 'Left Behind': 6.6, 'Throw Grampa from the Dane': 6.7, \"Flanders' Ladder\": 7.6}, 30: {\"Bart's Not Dead\": 6.2, 'Heartbreak Hotel': 6.0, 'My Way or the Highway to Heaven': 6.1, 'Treehouse of Horror XXIX': 5.9, \"Baby You Can't Drive My Car\": 7.0, 'From Russia Without Love': 6.6, 'Werking Mom': 5.8, 'Krusty the Clown': 6.6, 'Daddicus Finch': 6.8, \"'Tis the 30th Season\": 6.7, 'Mad About the Toy': 5.7, 'The Girl on the Bus': 6.3, \"I'm Dancing as Fat as I Can\": 6.9, 'The Clown Stays in the Picture': 6.2, '101 Mitigations': 6.4, \"I Want You (She's So Heavy)\": 5.8, 'E My Sports': 6.3, 'Bart vs. Itchy & Scratchy': 4.9, \"Girl's in the Band\": 6.2, \"I'm Just a Girl Who Can't Say D'oh\": 5.2, \"D'oh Canada\": 5.3, 'Woo-Hoo Dunnit?': 6.0, 'Crystal Blue-Haired Persuasion': 5.9}, 31: {'The Winter of Our Monetized Content': 5.0, 'Go Big or Go Homer': 5.0, 'The Fat Blue Line': 5.0, 'Treehouse of Horror XXX': 5.0, 'Episode #31.5': 5.0, 'Episode #31.6': 5.0, 'Episode #31.7': 5.0}, 32: {'Episode #32.1': 5.0}}\n"
          ],
          "name": "stdout"
        },
        {
          "output_type": "execute_result",
          "data": {
            "text/plain": [
              "array([1, 1, 0, 1, 1, 0, 1, 1, 0, 0, 1, 1, 1, 1, 1, 1, 1, 0, 1, 1, 1, 1,\n",
              "       1, 1, 1, 1, 0, 1, 0, 0, 1, 1, 1, 1, 1, 1, 1, 1, 1, 1, 1, 1, 1, 1,\n",
              "       1, 1, 1, 1, 1, 1, 1, 1, 1, 1, 1, 1, 1, 1, 1, 1, 1, 1, 1, 1, 1, 1,\n",
              "       1, 1, 1, 1, 1, 1, 1, 1, 1, 1, 0, 1, 1, 1, 1, 1, 1, 1, 1, 1, 1, 1,\n",
              "       1, 1, 1, 1, 1, 1, 1, 1, 1, 1, 1, 1, 1, 0, 1, 1, 1, 0, 1, 1, 1, 1,\n",
              "       1, 1, 1, 1, 1, 1, 1, 1, 1, 1, 1, 1, 1, 1, 1, 1, 1, 1, 1, 1, 1, 1,\n",
              "       1, 1, 1, 1, 1, 0, 1, 1, 1, 1, 1, 1, 1, 1, 1, 1, 1, 1, 1, 1, 1, 1,\n",
              "       1, 1, 1, 1, 1, 1, 1, 1, 1, 1, 1, 1, 1, 1, 1, 1, 1, 1, 1, 1, 1, 1,\n",
              "       0, 1, 1, 0, 1, 1, 1, 1, 1, 1, 0, 0, 0, 1, 1, 1, 0, 1, 1, 1, 1, 1,\n",
              "       1, 1, 1, 1, 1, 1, 1, 0, 1, 0, 0, 1, 0, 1, 1, 1, 0, 1, 0, 0, 0, 1,\n",
              "       0, 0, 0, 0, 0, 1, 0, 0, 0, 1, 1, 0, 0, 0, 0, 0, 0, 0, 0, 1, 0, 0,\n",
              "       0, 0, 0, 0, 0, 1, 1, 0, 0, 0, 0, 1, 0, 1, 1, 0, 0, 0, 0, 0, 0, 0,\n",
              "       0, 1, 0, 0, 0, 0, 0, 0, 0, 1, 0, 0, 0, 0, 0, 0, 0, 0, 0, 0, 1, 0,\n",
              "       1, 0, 0, 0, 1, 0, 0, 0, 0, 0, 0, 0, 0, 0, 0, 0, 0, 0, 0, 0, 0, 0,\n",
              "       0, 0, 0, 0, 1, 0, 0, 0, 0, 0, 0, 0, 0, 0, 0, 0, 0, 0, 0, 0, 0, 0,\n",
              "       0, 0, 0, 0, 0, 0, 0, 0, 0, 0, 0, 0, 0, 0, 0, 0, 0, 0, 0, 0, 0, 0,\n",
              "       0, 0, 0, 0, 0, 0, 0, 0, 0, 0, 0, 0, 0, 0, 0, 0, 0, 0, 0, 0, 0, 0,\n",
              "       0, 0, 0, 0, 0, 0, 0, 0, 0, 0, 0, 0, 0, 0, 0, 0, 0, 0, 0, 0, 0, 0,\n",
              "       0, 0, 1, 0, 0, 0, 0, 0, 0, 0, 0, 0, 1, 0, 0, 0, 0, 0, 0, 0, 0, 0,\n",
              "       0, 0, 0, 0, 0, 0, 0, 0, 0, 0, 0, 0, 0, 0, 0, 0, 0, 0, 0, 0, 0, 0,\n",
              "       0, 0, 0, 0, 0, 0, 0, 0, 0, 0, 0, 0, 0, 0, 0, 0, 0, 0, 0, 0, 0, 0,\n",
              "       0, 0, 0, 0, 0, 0, 0, 0, 0, 0, 0, 0, 0, 0, 0, 0, 0, 0, 0, 0, 0, 0,\n",
              "       0, 0, 0, 0, 0, 0, 0, 1, 0, 0, 1, 0, 0, 0, 0, 0, 0, 0, 0, 0, 0, 0,\n",
              "       0, 0, 0, 0, 0, 0, 0, 0, 0, 0, 0, 0, 0, 0, 0, 0, 0, 0, 0, 0, 0, 0,\n",
              "       0, 0, 0, 0, 0, 0, 0, 0, 0, 0, 0, 0, 0, 0, 0, 0, 0, 0, 0, 0, 0, 1,\n",
              "       0, 0, 0, 0, 0, 0, 0, 1, 0, 0, 0, 0, 0, 0, 0, 0, 0, 0, 0, 0, 0, 0,\n",
              "       0, 0, 0, 0, 0, 0, 0, 0, 0, 0, 1, 0, 0, 0, 0, 0, 0, 0, 0, 0, 0, 0,\n",
              "       0, 0, 0, 0, 0, 0, 0, 0, 0, 0, 0, 0, 0, 0, 0, 0, 0, 0, 0, 0, 0, 0,\n",
              "       0, 0, 0, 0, 0, 0, 0, 0, 0, 0, 0, 0, 0, 0, 0, 0, 0, 0, 0, 0, 0, 0,\n",
              "       0, 0, 0, 0, 0, 0, 0, 0, 0, 0, 0, 0, 0, 0, 0, 0, 0, 0, 0, 0, 0, 0,\n",
              "       0, 0, 0, 0, 0, 0, 0, 0, 0])"
            ]
          },
          "metadata": {
            "tags": []
          },
          "execution_count": 36
        }
      ]
    },
    {
      "cell_type": "code",
      "metadata": {
        "id": "sYNYA6YPzJ9_",
        "colab_type": "code",
        "colab": {
          "base_uri": "https://localhost:8080/",
          "height": 52
        },
        "outputId": "6cf61f81-0874-49ea-8b22-b8dafc76ab97"
      },
      "source": [
        "z=[]\n",
        "for epi in simpsons.keys():\n",
        "  z.append(len(simpsons[epi].values()))\n",
        "print(z)\n",
        "r=[]\n",
        "for q in range(len(z)):\n",
        "  r.append(np.count_nonzero(pr[sum(z[:(q)]):sum(z[:q+1])]==1)) \n",
        "print('the first season with 0 good episodes is: ', r.index(0)+1)"
      ],
      "execution_count": 37,
      "outputs": [
        {
          "output_type": "stream",
          "text": [
            "[13, 22, 24, 22, 22, 25, 25, 25, 25, 23, 22, 21, 22, 22, 22, 21, 22, 22, 20, 21, 23, 22, 22, 22, 22, 22, 22, 21, 21, 23, 7, 1]\n",
            "the first season with 0 good episodes is:  15\n"
          ],
          "name": "stdout"
        }
      ]
    },
    {
      "cell_type": "code",
      "metadata": {
        "id": "h4ITZ54S_LrP",
        "colab_type": "code",
        "colab": {}
      },
      "source": [
        "ke=list(simpsons.keys())"
      ],
      "execution_count": 0,
      "outputs": []
    },
    {
      "cell_type": "code",
      "metadata": {
        "id": "fHxq590ZCE_2",
        "colab_type": "code",
        "colab": {
          "base_uri": "https://localhost:8080/",
          "height": 977
        },
        "outputId": "a899c9c0-1060-47df-8933-d70482670ecd"
      },
      "source": [
        "plt.figure(figsize=(11,6))\n",
        "plt.plot(ke,r)\n",
        "plt.show\n",
        "plt.xlabel('Episodes')\n",
        "plt.ylabel('Frequency')\n",
        "plt.title('Good Rating for each Simpsons episodes')\n",
        "plt.grid(True)\n",
        "plt.xticks(ke)\n",
        "plt.yticks(r)"
      ],
      "execution_count": 39,
      "outputs": [
        {
          "output_type": "execute_result",
          "data": {
            "text/plain": [
              "([<matplotlib.axis.YTick at 0x7f9690b32b00>,\n",
              "  <matplotlib.axis.YTick at 0x7f96909a0c50>,\n",
              "  <matplotlib.axis.YTick at 0x7f9690a548d0>,\n",
              "  <matplotlib.axis.YTick at 0x7f9690aa5d68>,\n",
              "  <matplotlib.axis.YTick at 0x7f96929942e8>,\n",
              "  <matplotlib.axis.YTick at 0x7f9692994828>,\n",
              "  <matplotlib.axis.YTick at 0x7f9692994d68>,\n",
              "  <matplotlib.axis.YTick at 0x7f96929b52e8>,\n",
              "  <matplotlib.axis.YTick at 0x7f96929b5828>,\n",
              "  <matplotlib.axis.YTick at 0x7f9692994780>,\n",
              "  <matplotlib.axis.YTick at 0x7f9690a3b978>,\n",
              "  <matplotlib.axis.YTick at 0x7f96929b5c18>,\n",
              "  <matplotlib.axis.YTick at 0x7f96929a2198>,\n",
              "  <matplotlib.axis.YTick at 0x7f96929a26d8>,\n",
              "  <matplotlib.axis.YTick at 0x7f96929a2c18>,\n",
              "  <matplotlib.axis.YTick at 0x7f969297c198>,\n",
              "  <matplotlib.axis.YTick at 0x7f969297c6d8>,\n",
              "  <matplotlib.axis.YTick at 0x7f969297cc18>,\n",
              "  <matplotlib.axis.YTick at 0x7f969297c4e0>,\n",
              "  <matplotlib.axis.YTick at 0x7f96929a27b8>,\n",
              "  <matplotlib.axis.YTick at 0x7f9692994390>,\n",
              "  <matplotlib.axis.YTick at 0x7f96929865f8>,\n",
              "  <matplotlib.axis.YTick at 0x7f9692986b38>,\n",
              "  <matplotlib.axis.YTick at 0x7f969299d0f0>,\n",
              "  <matplotlib.axis.YTick at 0x7f969299d5f8>,\n",
              "  <matplotlib.axis.YTick at 0x7f969299db38>,\n",
              "  <matplotlib.axis.YTick at 0x7f96929ec0f0>,\n",
              "  <matplotlib.axis.YTick at 0x7f96929ec5f8>,\n",
              "  <matplotlib.axis.YTick at 0x7f969299d400>,\n",
              "  <matplotlib.axis.YTick at 0x7f96929b56a0>,\n",
              "  <matplotlib.axis.YTick at 0x7f96929ec9e8>,\n",
              "  <matplotlib.axis.YTick at 0x7f96929ecf28>],\n",
              " <a list of 32 Text yticklabel objects>)"
            ]
          },
          "metadata": {
            "tags": []
          },
          "execution_count": 39
        },
        {
          "output_type": "display_data",
          "data": {
            "image/png": "[encoded data removed]",
            "text/plain": [
              "<Figure size 792x432 with 1 Axes>"
            ]
          },
          "metadata": {
            "tags": []
          }
        }
      ]
    },
    {
      "cell_type": "markdown",
      "metadata": {
        "id": "M2LBcGEWO5Aq",
        "colab_type": "text"
      },
      "source": [
        "## Exercises"
      ]
    },
    {
      "cell_type": "markdown",
      "metadata": {
        "id": "15oxS-3p086d",
        "colab_type": "text"
      },
      "source": [
        "Now we are going to work with a credit card fraud dataset (more detail can be found [here](https://www.kaggle.com/mlg-ulb/creditcardfraud/downloads/creditcardfraud.zip/3)). This dataset contains 28 key features, which are not \n",
        "directly interpretable but contain meaningful information about the dataset.\n",
        "\n",
        "Load up the dataset using Pandas' `read_csv` function. The dataset is called `creditcard.csv`. Print out the first few columns of the dataset.\n",
        "\n",
        "* How many rows are there?[1] __284807___\n",
        "* What features in the dataset are present aside from the 28 main features?[1] _Time, Amount, Class____\n",
        "* Why do you think the main features are given to us in this way?[1] __ Due to confidentiality issues, we cannot get the original features and more background information about the data, so the main features are only numerical input variables which are the result of a PCA transformation___\n",
        "* Which column contains the targets? Can you figure out what the values correspond to?[1] _Class contains the targets, In Class Column, we have 0 and 1, 0 means the transaction is not fraud, 1 means the transaction is fraud.__"
      ]
    },
    {
      "cell_type": "code",
      "metadata": {
        "id": "QjjWSjZmNr6W",
        "colab_type": "code",
        "colab": {
          "base_uri": "https://localhost:8080/",
          "height": 34
        },
        "outputId": "d37c408d-57f9-4334-b4de-cd94838c067a"
      },
      "source": [
        "pip install wget"
      ],
      "execution_count": 40,
      "outputs": [
        {
          "output_type": "stream",
          "text": [
            "Requirement already satisfied: wget in /usr/local/lib/python3.6/dist-packages (3.2)\n"
          ],
          "name": "stdout"
        }
      ]
    },
    {
      "cell_type": "code",
      "metadata": {
        "id": "lnyWAHCx086e",
        "colab_type": "code",
        "colab": {
          "base_uri": "https://localhost:8080/",
          "height": 34
        },
        "outputId": "7e7f7f62-9652-43da-d581-2716119c4bc2"
      },
      "source": [
        "import wget\n",
        "wget.download('https://github.com/alexwolson/APS1070_data/raw/master/creditcard.tar.gz','creditcard.tar.gz')"
      ],
      "execution_count": 41,
      "outputs": [
        {
          "output_type": "execute_result",
          "data": {
            "text/plain": [
              "'creditcard.tar (5).gz'"
            ]
          },
          "metadata": {
            "tags": []
          },
          "execution_count": 41
        }
      ]
    },
    {
      "cell_type": "code",
      "metadata": {
        "id": "mXCRNShD086g",
        "colab_type": "code",
        "colab": {
          "base_uri": "https://localhost:8080/",
          "height": 34
        },
        "outputId": "b236216d-a5fb-431b-938c-148f0abcb11e"
      },
      "source": [
        "!tar -zxvf creditcard.tar.gz"
      ],
      "execution_count": 42,
      "outputs": [
        {
          "output_type": "stream",
          "text": [
            "creditcard.csv\n"
          ],
          "name": "stdout"
        }
      ]
    },
    {
      "cell_type": "code",
      "metadata": {
        "id": "IHcCbjaU086i",
        "colab_type": "code",
        "colab": {
          "base_uri": "https://localhost:8080/",
          "height": 52
        },
        "outputId": "63449863-0c1f-4075-fca6-88a76879a025"
      },
      "source": [
        "import pandas as pd\n",
        "from sklearn.model_selection import train_test_split\n",
        "creditcarddf=pd.read_csv('creditcard.csv')\n",
        "#print(creditcarddf.iloc[:,0:5])#print frist 5 columns\n",
        "print(creditcarddf['Class'].unique())\n",
        "len(creditcarddf.index)"
      ],
      "execution_count": 43,
      "outputs": [
        {
          "output_type": "stream",
          "text": [
            "[0 1]\n"
          ],
          "name": "stdout"
        },
        {
          "output_type": "execute_result",
          "data": {
            "text/plain": [
              "284807"
            ]
          },
          "metadata": {
            "tags": []
          },
          "execution_count": 43
        }
      ]
    },
    {
      "cell_type": "code",
      "metadata": {
        "id": "eiiMn1DDVSHN",
        "colab_type": "code",
        "colab": {
          "base_uri": "https://localhost:8080/",
          "height": 52
        },
        "outputId": "d5056e9e-b985-4920-a2fe-86625c376978"
      },
      "source": [
        "print(\"class 1 have the percentage: \",len(creditcarddf.loc[creditcarddf['Class'] == 1].index)/len(creditcarddf.index)*100,'%')\n",
        "print(\"class 0 have the percentage: \",len(creditcarddf.loc[creditcarddf['Class'] == 0].index)/len(creditcarddf.index)*100,'%')"
      ],
      "execution_count": 44,
      "outputs": [
        {
          "output_type": "stream",
          "text": [
            "class 1 have the percentage:  0.1727485630620034 %\n",
            "class 0 have the percentage:  99.82725143693798 %\n"
          ],
          "name": "stdout"
        }
      ]
    },
    {
      "cell_type": "markdown",
      "metadata": {
        "id": "kxHfH_Ib086k",
        "colab_type": "text"
      },
      "source": [
        "It's always important when looking at a new dataset to figure out how many rows we have for each class.\n",
        "\n",
        "* What is the percentage of entries in the dataset for each class?[1] _**class 1 have the percentage:  0.1727485630620034 %,\n",
        "class 0 have the percentage:  99.82725143693798 %**\n",
        "* Why might this pose a problem with methods we have looked at so far?[1] _**I think the problem is that class 1 has a very small percentage for the methods we have looked at so far to find a good model which has a good accuracy, since the class1 has a very small number, the model do not a lot of data to learn, which will easily result in underfitting.**\n",
        "\n"
      ]
    },
    {
      "cell_type": "markdown",
      "metadata": {
        "id": "BIQlULv0086k",
        "colab_type": "text"
      },
      "source": [
        "Next, split the dataset into a training and testing set using sklearn's `train_test_split` function. Use a test size of one third, and set the random state to 0.\n",
        "\n",
        "Make sure to separate out the column corresponding to the targets.\n",
        "\n",
        "As mentioned earlier, in these exercises we are going to use Gaussian distributions to model the data. To accomplish this, we are going to introduce `scipy`, a package which contains a wide variety of tools for working with scientific data in Python. Its `stats` package allows us to easily model various statistical distributions, and get information about them.\n",
        "\n",
        "Scipy's Gaussian distribution class is called `norm`. It takes two parameters - `loc`, which corresponds to the mean of your distribution, and `scale`, which corresponds to the standard deviation.\n",
        "\n",
        "* What are the mean and standard deviation for variable V24? Make sure to only use your training set for this.[1] ___mean=0.0002942484069872569, standard deviation=0.6048626021215933__\n",
        "\n",
        "Use the code below to set up a Gaussian object for V24."
      ]
    },
    {
      "cell_type": "code",
      "metadata": {
        "id": "dgWOjC7FcKAr",
        "colab_type": "code",
        "colab": {
          "base_uri": "https://localhost:8080/",
          "height": 34
        },
        "outputId": "63b1eef7-6a8a-4b78-ec6d-7212004dfe32"
      },
      "source": [
        "X = creditcarddf.drop(columns=['Class','Time', 'Amount'])\n",
        "Y = creditcarddf['Class']\n",
        "X_train, X_test, y_train, y_test = train_test_split(X, Y, test_size=0.33, random_state=0, shuffle=True)\n",
        "# def estimateGaussian(X):\n",
        "#     \"\"\"\n",
        "#      This function provides an estimate of mean and variance \n",
        "#      of a Gaussian distribution along multiple dimensions\n",
        "#      using X, an N-dimensional vector\n",
        "#     \"\"\"\n",
        "    \n",
        "#     m = X.shape[0]\n",
        "    \n",
        "#     #compute mean of X\n",
        "#     sum_ = np.sum(X,axis=0)\n",
        "#     mu = 1/m *sum_\n",
        "    \n",
        "#     # compute variance of X\n",
        "#     var = 1/m * np.sum((X - mu)**2,axis=0)\n",
        "    \n",
        "#     return mu,var\n",
        "mu1, sigma1 = estimateGaussian(X_train['V24'])\n",
        "print(mu1,sigma1**0.5)"
      ],
      "execution_count": 45,
      "outputs": [
        {
          "output_type": "stream",
          "text": [
            "0.0002942484069872569 0.6048626021215933\n"
          ],
          "name": "stdout"
        }
      ]
    },
    {
      "cell_type": "code",
      "metadata": {
        "id": "PgJDMPKR086k",
        "colab_type": "code",
        "colab": {}
      },
      "source": [
        "from scipy import stats\n",
        "\n",
        "norm = stats.norm(loc=mu1,scale=sigma1**0.5)"
      ],
      "execution_count": 0,
      "outputs": []
    },
    {
      "cell_type": "code",
      "metadata": {
        "id": "BTe6jzJ1086m",
        "colab_type": "code",
        "colab": {
          "base_uri": "https://localhost:8080/",
          "height": 269
        },
        "outputId": "454256a1-6ec7-4c38-b6ff-7c2e24699fcf"
      },
      "source": [
        "import matplotlib.pyplot as plt\n",
        "import numpy as np\n",
        "fig, ax = plt.subplots(1, 1)\n",
        "x = np.linspace(norm.ppf(0.01),\n",
        "                norm.ppf(0.99), 100)\n",
        "ax.plot(x, norm.pdf(x),\n",
        "       'r-', lw=5, alpha=0.6, label='norm pdf')\n",
        "ax.hist(X_train['V24'].values, density=True, histtype='stepfilled', bins=50);\n",
        "plt.show()"
      ],
      "execution_count": 47,
      "outputs": [
        {
          "output_type": "display_data",
          "data": {
            "image/png": "[encoded data removed]",
            "text/plain": [
              "<Figure size 432x288 with 1 Axes>"
            ]
          },
          "metadata": {
            "tags": []
          }
        }
      ]
    },
    {
      "cell_type": "markdown",
      "metadata": {
        "id": "Fn3xaQXV086n",
        "colab_type": "text"
      },
      "source": [
        "We can also look at the difference in distribution for some variables between fraudulent and non-fraudulent transactions:"
      ]
    },
    {
      "cell_type": "code",
      "metadata": {
        "scrolled": false,
        "id": "dv51PCrv086n",
        "colab_type": "code",
        "colab": {
          "base_uri": "https://localhost:8080/",
          "height": 281
        },
        "outputId": "a0c891a0-260f-47e6-989b-d0f41e2004eb"
      },
      "source": [
        "import matplotlib.gridspec as gridspec\n",
        "import seaborn as sns\n",
        "features=[f for f in X.columns if 'V11' in f]\n",
        "nplots=np.size(features)\n",
        "plt.figure(figsize=(15,4*nplots))\n",
        "gs = gridspec.GridSpec(nplots,1)\n",
        "for i, feat in enumerate(features):\n",
        "    ax = plt.subplot(gs[i])\n",
        "    sns.distplot(X_train[feat][y_train==1], bins=30)\n",
        "    sns.distplot(X_train[feat][y_train==0],bins=30)\n",
        "    ax.legend(['fraudulent', 'non-fraudulent'],loc='best')\n",
        "    ax.set_xlabel('')\n",
        "    ax.set_title('Distribution of feature: ' + feat)"
      ],
      "execution_count": 48,
      "outputs": [
        {
          "output_type": "display_data",
          "data": {
            "image/png": "[encoded data removed]",
            "text/plain": [
              "<Figure size 1080x288 with 1 Axes>"
            ]
          },
          "metadata": {
            "tags": []
          }
        }
      ]
    },
    {
      "cell_type": "markdown",
      "metadata": {
        "id": "A4TPN7kc086p",
        "colab_type": "text"
      },
      "source": [
        "Build an outlier detection model using a Mixture of Gaussians using a subset of features of your choice (pick a few) and a number of mixture components. Report both the precision@k and recall@k for k=1, 10 and 100 (on test data). Repeat this model creation process at least 4 more times, each time selecting different parameters (features selected, number of mixture components), and reporting the precision and recall as above. Organize your findings in a table or plot and describe your findings. What can you conclude about what models work best? [3]\n",
        "**After organize my findings in a csv file, I could find following conclusions:**\n",
        "**1) If the feature number is fixed, we could find different chosen features will result in different precision and recall, that means some features may help our model a lot, some else.**\n",
        "**2) If we choose only two features, 6 features and 18 features which all have\"V3\" and \"V4\",  to compare them, we could find, too many features may result in overfitting and have a bad precision and recall.**\n",
        "**3) As we change the component number from 2 to 5 to 10 and 18, we could find too many components are not good.**\n",
        "\n",
        "**Therefore, about what models work best, we could conclude that, if we could choose the best few features which could help our model, and not too many of them, cuz it will result in overfitting. So maybe 5-8 features are best, and then choose a right component number, may be 5, not too big, then, after test our model times by times, we could find our best model. ****"
      ]
    },
    {
      "cell_type": "code",
      "metadata": {
        "id": "FslfdZgy8MHh",
        "colab_type": "code",
        "colab": {
          "base_uri": "https://localhost:8080/",
          "height": 269
        },
        "outputId": "e34bfdc4-a46c-45c8-d2c0-340cba062b11"
      },
      "source": [
        "url='https://raw.githubusercontent.com/bulugate/credittable/master/credittable.csv'\n",
        "df1 = pd.read_csv(url)\n",
        "df1# following is a dataframe to show our result"
      ],
      "execution_count": 49,
      "outputs": [
        {
          "output_type": "execute_result",
          "data": {
            "text/html": [
              "<div>\n",
              "<style scoped>\n",
              "    .dataframe tbody tr th:only-of-type {\n",
              "        vertical-align: middle;\n",
              "    }\n",
              "\n",
              "    .dataframe tbody tr th {\n",
              "        vertical-align: top;\n",
              "    }\n",
              "\n",
              "    .dataframe thead th {\n",
              "        text-align: right;\n",
              "    }\n",
              "</style>\n",
              "<table border=\"1\" class=\"dataframe\">\n",
              "  <thead>\n",
              "    <tr style=\"text-align: right;\">\n",
              "      <th></th>\n",
              "      <th>feature number</th>\n",
              "      <th>feature choose</th>\n",
              "      <th>component number</th>\n",
              "      <th>precision(k=1,10,100)</th>\n",
              "      <th>recall(k=1,10,100)</th>\n",
              "    </tr>\n",
              "  </thead>\n",
              "  <tbody>\n",
              "    <tr>\n",
              "      <th>0</th>\n",
              "      <td>2</td>\n",
              "      <td>V1,V2</td>\n",
              "      <td>5</td>\n",
              "      <td>0,  0,  0.14</td>\n",
              "      <td>0,  0,  0.086</td>\n",
              "    </tr>\n",
              "    <tr>\n",
              "      <th>1</th>\n",
              "      <td>2</td>\n",
              "      <td>V3,V4</td>\n",
              "      <td>5</td>\n",
              "      <td>0,  0.5,  0.37</td>\n",
              "      <td>0,  0.031,  0.228</td>\n",
              "    </tr>\n",
              "    <tr>\n",
              "      <th>2</th>\n",
              "      <td>6</td>\n",
              "      <td>V3','V4','V5','V6','V7','V8</td>\n",
              "      <td>5</td>\n",
              "      <td>0,  0.2,  0.26</td>\n",
              "      <td>0,  0.012,  0.16</td>\n",
              "    </tr>\n",
              "    <tr>\n",
              "      <th>3</th>\n",
              "      <td>18</td>\n",
              "      <td>V3','V4','V5','V6','V7','V8','V13','V14','V15'...</td>\n",
              "      <td>5</td>\n",
              "      <td>0，0，0.37</td>\n",
              "      <td>0，0，0.28</td>\n",
              "    </tr>\n",
              "    <tr>\n",
              "      <th>4</th>\n",
              "      <td>2</td>\n",
              "      <td>V3,V4</td>\n",
              "      <td>2</td>\n",
              "      <td>0,  0.6， 0.41</td>\n",
              "      <td>0，0.037， 0.253</td>\n",
              "    </tr>\n",
              "    <tr>\n",
              "      <th>5</th>\n",
              "      <td>2</td>\n",
              "      <td>V3,V4</td>\n",
              "      <td>10</td>\n",
              "      <td>0，0.6， 0.28</td>\n",
              "      <td>0，0.037，0.173</td>\n",
              "    </tr>\n",
              "    <tr>\n",
              "      <th>6</th>\n",
              "      <td>2</td>\n",
              "      <td>V3,V4</td>\n",
              "      <td>18</td>\n",
              "      <td>0，0.3，0.39</td>\n",
              "      <td>0，0.019，0.241</td>\n",
              "    </tr>\n",
              "  </tbody>\n",
              "</table>\n",
              "</div>"
            ],
            "text/plain": [
              "   feature number  ... recall(k=1,10,100)\n",
              "0               2  ...      0,  0,  0.086\n",
              "1               2  ...  0,  0.031,  0.228\n",
              "2               6  ...   0,  0.012,  0.16\n",
              "3              18  ...           0，0，0.28\n",
              "4               2  ...     0，0.037， 0.253\n",
              "5               2  ...      0，0.037，0.173\n",
              "6               2  ...      0，0.019，0.241\n",
              "\n",
              "[7 rows x 5 columns]"
            ]
          },
          "metadata": {
            "tags": []
          },
          "execution_count": 49
        }
      ]
    },
    {
      "cell_type": "code",
      "metadata": {
        "id": "_HR-H-N7086p",
        "colab_type": "code",
        "colab": {
          "base_uri": "https://localhost:8080/",
          "height": 69
        },
        "outputId": "1ed606ea-670c-4df7-f69a-faec3a01c8d8"
      },
      "source": [
        "from sklearn.mixture import GaussianMixture\n",
        "gm1 = GaussianMixture(n_components = 5,\n",
        "                    covariance_type = 'full', random_state=0, )\n",
        "gm1.fit(X_train.loc[:,['V1','V2']].values)\n",
        "\n",
        "ps1 = gm1.score_samples(X_test.loc[:,['V1','V2']].values)\n",
        "for i in [1,10,100]: #Let's look at 3 different k values\n",
        "   mn_gm = sorted(ps1)[i] #We sort the points by probability, as before\n",
        "   precision = precision_score(y_test, ps1 < mn_gm) #Here, we compare y_test labels to our picks using precision\n",
        "   recall = recall_score(y_test, ps1 < mn_gm) #Here, we compare y_test labels to our picks using recall\n",
        "   print('For a k of ',i,' the precision is ', '%.3f' % precision,' and the recall is ', '%.3f' % recall)"
      ],
      "execution_count": 50,
      "outputs": [
        {
          "output_type": "stream",
          "text": [
            "For a k of  1  the precision is  0.000  and the recall is  0.000\n",
            "For a k of  10  the precision is  0.000  and the recall is  0.000\n",
            "For a k of  100  the precision is  0.140  and the recall is  0.086\n"
          ],
          "name": "stdout"
        }
      ]
    },
    {
      "cell_type": "code",
      "metadata": {
        "id": "bleTccpfvfF-",
        "colab_type": "code",
        "colab": {
          "base_uri": "https://localhost:8080/",
          "height": 69
        },
        "outputId": "856153ca-5f76-41a4-834a-1f671d23c630"
      },
      "source": [
        "from sklearn.mixture import GaussianMixture\n",
        "gm2 = GaussianMixture(n_components = 5,\n",
        "                    covariance_type = 'full', random_state=0, )\n",
        "gm2.fit(X_train.loc[:,['V3','V4']].values)\n",
        "\n",
        "ps2 = gm2.score_samples(X_test.loc[:,['V3','V4']].values)\n",
        "for i in [1,10,100]: #Let's look at 3 different k values\n",
        "   mn_gm = sorted(ps2)[i] #We sort the points by probability, as before\n",
        "   precision = precision_score(y_test, ps2 < mn_gm) #Here, we compare y_test labels to our picks using precision\n",
        "   recall = recall_score(y_test, ps2 < mn_gm) #Here, we compare y_test labels to our picks using recall\n",
        "   print('For a k of ',i,' the precision is ', '%.3f' % precision,' and the recall is ', '%.3f' % recall)\n"
      ],
      "execution_count": 51,
      "outputs": [
        {
          "output_type": "stream",
          "text": [
            "For a k of  1  the precision is  0.000  and the recall is  0.000\n",
            "For a k of  10  the precision is  0.500  and the recall is  0.031\n",
            "For a k of  100  the precision is  0.370  and the recall is  0.228\n"
          ],
          "name": "stdout"
        }
      ]
    },
    {
      "cell_type": "code",
      "metadata": {
        "id": "y-qFFqVw5Pdr",
        "colab_type": "code",
        "colab": {
          "base_uri": "https://localhost:8080/",
          "height": 69
        },
        "outputId": "efccd4eb-2ec0-4cec-ad60-6587640b3c87"
      },
      "source": [
        "from sklearn.mixture import GaussianMixture\n",
        "gm3 = GaussianMixture(n_components = 5,\n",
        "                    covariance_type = 'full', random_state=0, )\n",
        "gm3.fit(X_train.loc[:,['V3','V4','V5','V6','V7','V8']].values)\n",
        "\n",
        "ps3 = gm3.score_samples(X_test.loc[:,['V3','V4','V5','V6','V7','V8']].values)\n",
        "for i in [1,10,100]: #Let's look at 3 different k values\n",
        "   mn_gm = sorted(ps3)[i] #We sort the points by probability, as before\n",
        "   precision = precision_score(y_test, ps3 < mn_gm) #Here, we compare y_test labels to our picks using precision\n",
        "   recall = recall_score(y_test, ps3 < mn_gm) #Here, we compare y_test labels to our picks using recall\n",
        "   print('For a k of ',i,' the precision is ', '%.3f' % precision,' and the recall is ', '%.3f' % recall)"
      ],
      "execution_count": 52,
      "outputs": [
        {
          "output_type": "stream",
          "text": [
            "For a k of  1  the precision is  0.000  and the recall is  0.000\n",
            "For a k of  10  the precision is  0.200  and the recall is  0.012\n",
            "For a k of  100  the precision is  0.260  and the recall is  0.160\n"
          ],
          "name": "stdout"
        }
      ]
    },
    {
      "cell_type": "code",
      "metadata": {
        "id": "oKKYK6sL7VQa",
        "colab_type": "code",
        "colab": {
          "base_uri": "https://localhost:8080/",
          "height": 69
        },
        "outputId": "f683e7af-2a22-4c93-ee22-feec8013a1d1"
      },
      "source": [
        "from sklearn.mixture import GaussianMixture\n",
        "gm6 = GaussianMixture(n_components = 2,\n",
        "                    covariance_type = 'full', random_state=0, )\n",
        "gm6.fit(X_train.loc[:,['V3','V4']].values)\n",
        "\n",
        "ps6 = gm6.score_samples(X_test.loc[:,['V3','V4']].values)\n",
        "for i in [1,10,100]: #Let's look at 3 different k values\n",
        "   mn_gm = sorted(ps6)[i] #We sort the points by probability, as before\n",
        "   precision = precision_score(y_test, ps6 < mn_gm) #Here, we compare y_test labels to our picks using precision\n",
        "   recall = recall_score(y_test, ps6 < mn_gm) #Here, we compare y_test labels to our picks using recall\n",
        "   print('For a k of ',i,' the precision is ', '%.3f' % precision,' and the recall is ', '%.3f' % recall)"
      ],
      "execution_count": 57,
      "outputs": [
        {
          "output_type": "stream",
          "text": [
            "For a k of  1  the precision is  0.000  and the recall is  0.000\n",
            "For a k of  10  the precision is  0.600  and the recall is  0.037\n",
            "For a k of  100  the precision is  0.410  and the recall is  0.253\n"
          ],
          "name": "stdout"
        }
      ]
    },
    {
      "cell_type": "code",
      "metadata": {
        "id": "Oi9mBmlo6gdT",
        "colab_type": "code",
        "colab": {
          "base_uri": "https://localhost:8080/",
          "height": 69
        },
        "outputId": "4d7f997d-36af-4319-a67d-aafbc778e657"
      },
      "source": [
        "from sklearn.mixture import GaussianMixture\n",
        "gm4 = GaussianMixture(n_components =10,\n",
        "                    covariance_type = 'full', random_state=0, )\n",
        "gm4.fit(X_train.loc[:,['V3','V4']].values)\n",
        "\n",
        "ps4 = gm4.score_samples(X_test.loc[:,['V3','V4']].values)\n",
        "for i in [1,10,100]: #Let's look at 3 different k values\n",
        "   mn_gm = sorted(ps4)[i] #We sort the points by probability, as before\n",
        "   precision = precision_score(y_test, ps4 < mn_gm) #Here, we compare y_test labels to our picks using precision\n",
        "   recall = recall_score(y_test, ps4 < mn_gm) #Here, we compare y_test labels to our picks using recall\n",
        "   print('For a k of ',i,' the precision is ', '%.3f' % precision,' and the recall is ', '%.3f' % recall)"
      ],
      "execution_count": 58,
      "outputs": [
        {
          "output_type": "stream",
          "text": [
            "For a k of  1  the precision is  0.000  and the recall is  0.000\n",
            "For a k of  10  the precision is  0.600  and the recall is  0.037\n",
            "For a k of  100  the precision is  0.280  and the recall is  0.173\n"
          ],
          "name": "stdout"
        }
      ]
    },
    {
      "cell_type": "code",
      "metadata": {
        "id": "ixuXoIut6uTg",
        "colab_type": "code",
        "colab": {
          "base_uri": "https://localhost:8080/",
          "height": 69
        },
        "outputId": "48f9fed9-8f30-4d6e-9e01-efdf588f2bea"
      },
      "source": [
        "from sklearn.mixture import GaussianMixture\n",
        "gm5 = GaussianMixture(n_components = 18,\n",
        "                    covariance_type = 'full', random_state=0, )\n",
        "gm5.fit(X_train.loc[:,['V3','V4']].values)\n",
        "\n",
        "ps5 = gm5.score_samples(X_test.loc[:,['V3','V4']].values)\n",
        "for i in [1,10,100]: #Let's look at 3 different k values\n",
        "   mn_gm = sorted(ps5)[i] #We sort the points by probability, as before\n",
        "   precision = precision_score(y_test, ps5 < mn_gm) #Here, we compare y_test labels to our picks using precision\n",
        "   recall = recall_score(y_test, ps5 < mn_gm) #Here, we compare y_test labels to our picks using recall\n",
        "   print('For a k of ',i,' the precision is ', '%.3f' % precision,' and the recall is ', '%.3f' % recall)"
      ],
      "execution_count": 56,
      "outputs": [
        {
          "output_type": "stream",
          "text": [
            "For a k of  1  the precision is  0.000  and the recall is  0.000\n",
            "For a k of  10  the precision is  0.300  and the recall is  0.019\n",
            "For a k of  100  the precision is  0.390  and the recall is  0.241\n"
          ],
          "name": "stdout"
        }
      ]
    }
  ]
}